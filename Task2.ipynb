{
 "cells": [
  {
   "cell_type": "code",
   "execution_count": 1,
   "id": "deb650e1",
   "metadata": {
    "execution": {
     "iopub.execute_input": "2022-10-05T11:46:41.704155Z",
     "iopub.status.busy": "2022-10-05T11:46:41.703192Z",
     "iopub.status.idle": "2022-10-05T11:46:42.847024Z",
     "shell.execute_reply": "2022-10-05T11:46:42.846142Z"
    },
    "papermill": {
     "duration": 1.160265,
     "end_time": "2022-10-05T11:46:42.849690",
     "exception": false,
     "start_time": "2022-10-05T11:46:41.689425",
     "status": "completed"
    },
    "tags": []
   },
   "outputs": [],
   "source": [
    "from sklearn.model_selection import train_test_split\n",
    "from sklearn.linear_model import LinearRegression\n",
    "from sklearn import metrics"
   ]
  },
  {
   "cell_type": "code",
   "execution_count": 2,
   "id": "c2f986cf",
   "metadata": {
    "execution": {
     "iopub.execute_input": "2022-10-05T11:46:42.876009Z",
     "iopub.status.busy": "2022-10-05T11:46:42.875294Z",
     "iopub.status.idle": "2022-10-05T11:46:42.882836Z",
     "shell.execute_reply": "2022-10-05T11:46:42.882052Z"
    },
    "papermill": {
     "duration": 0.023222,
     "end_time": "2022-10-05T11:46:42.885077",
     "exception": false,
     "start_time": "2022-10-05T11:46:42.861855",
     "status": "completed"
    },
    "tags": []
   },
   "outputs": [],
   "source": [
    "import pandas as pd\n",
    "import numpy as np\n",
    "import matplotlib.pyplot as plt\n",
    "%matplotlib inline  "
   ]
  },
  {
   "cell_type": "code",
   "execution_count": 3,
   "id": "3be1113e",
   "metadata": {
    "execution": {
     "iopub.execute_input": "2022-10-05T11:46:42.914773Z",
     "iopub.status.busy": "2022-10-05T11:46:42.914350Z",
     "iopub.status.idle": "2022-10-05T11:46:42.937430Z",
     "shell.execute_reply": "2022-10-05T11:46:42.936394Z"
    },
    "papermill": {
     "duration": 0.041796,
     "end_time": "2022-10-05T11:46:42.940094",
     "exception": false,
     "start_time": "2022-10-05T11:46:42.898298",
     "status": "completed"
    },
    "tags": []
   },
   "outputs": [],
   "source": [
    "dataset = pd.read_csv(\"../input/nsetataglobal/NSE-TATAGLOBAL11.csv\")"
   ]
  },
  {
   "cell_type": "code",
   "execution_count": 4,
   "id": "19c78b10",
   "metadata": {
    "execution": {
     "iopub.execute_input": "2022-10-05T11:46:42.993341Z",
     "iopub.status.busy": "2022-10-05T11:46:42.992964Z",
     "iopub.status.idle": "2022-10-05T11:46:43.044961Z",
     "shell.execute_reply": "2022-10-05T11:46:43.043817Z"
    },
    "papermill": {
     "duration": 0.068173,
     "end_time": "2022-10-05T11:46:43.047774",
     "exception": false,
     "start_time": "2022-10-05T11:46:42.979601",
     "status": "completed"
    },
    "tags": []
   },
   "outputs": [
    {
     "data": {
      "text/html": [
       "<div>\n",
       "<style scoped>\n",
       "    .dataframe tbody tr th:only-of-type {\n",
       "        vertical-align: middle;\n",
       "    }\n",
       "\n",
       "    .dataframe tbody tr th {\n",
       "        vertical-align: top;\n",
       "    }\n",
       "\n",
       "    .dataframe thead th {\n",
       "        text-align: right;\n",
       "    }\n",
       "</style>\n",
       "<table border=\"1\" class=\"dataframe\">\n",
       "  <thead>\n",
       "    <tr style=\"text-align: right;\">\n",
       "      <th></th>\n",
       "      <th>Open</th>\n",
       "      <th>High</th>\n",
       "      <th>Low</th>\n",
       "      <th>Last</th>\n",
       "      <th>Close</th>\n",
       "      <th>Total Trade Quantity</th>\n",
       "      <th>Turnover (Lacs)</th>\n",
       "    </tr>\n",
       "  </thead>\n",
       "  <tbody>\n",
       "    <tr>\n",
       "      <th>count</th>\n",
       "      <td>1235.000000</td>\n",
       "      <td>1235.000000</td>\n",
       "      <td>1235.000000</td>\n",
       "      <td>1235.000000</td>\n",
       "      <td>1235.000000</td>\n",
       "      <td>1.235000e+03</td>\n",
       "      <td>1235.000000</td>\n",
       "    </tr>\n",
       "    <tr>\n",
       "      <th>mean</th>\n",
       "      <td>168.954858</td>\n",
       "      <td>171.429069</td>\n",
       "      <td>166.402308</td>\n",
       "      <td>168.736356</td>\n",
       "      <td>168.731053</td>\n",
       "      <td>2.604151e+06</td>\n",
       "      <td>4843.166502</td>\n",
       "    </tr>\n",
       "    <tr>\n",
       "      <th>std</th>\n",
       "      <td>51.499145</td>\n",
       "      <td>52.436761</td>\n",
       "      <td>50.542919</td>\n",
       "      <td>51.587384</td>\n",
       "      <td>51.544928</td>\n",
       "      <td>2.277028e+06</td>\n",
       "      <td>5348.919832</td>\n",
       "    </tr>\n",
       "    <tr>\n",
       "      <th>min</th>\n",
       "      <td>103.000000</td>\n",
       "      <td>104.600000</td>\n",
       "      <td>100.000000</td>\n",
       "      <td>102.600000</td>\n",
       "      <td>102.650000</td>\n",
       "      <td>1.001800e+05</td>\n",
       "      <td>128.040000</td>\n",
       "    </tr>\n",
       "    <tr>\n",
       "      <th>25%</th>\n",
       "      <td>137.550000</td>\n",
       "      <td>138.925000</td>\n",
       "      <td>135.250000</td>\n",
       "      <td>137.175000</td>\n",
       "      <td>137.225000</td>\n",
       "      <td>1.284482e+06</td>\n",
       "      <td>1801.035000</td>\n",
       "    </tr>\n",
       "    <tr>\n",
       "      <th>50%</th>\n",
       "      <td>151.500000</td>\n",
       "      <td>153.250000</td>\n",
       "      <td>149.500000</td>\n",
       "      <td>151.200000</td>\n",
       "      <td>151.100000</td>\n",
       "      <td>1.964885e+06</td>\n",
       "      <td>3068.510000</td>\n",
       "    </tr>\n",
       "    <tr>\n",
       "      <th>75%</th>\n",
       "      <td>169.000000</td>\n",
       "      <td>172.325000</td>\n",
       "      <td>166.700000</td>\n",
       "      <td>169.100000</td>\n",
       "      <td>169.500000</td>\n",
       "      <td>3.095788e+06</td>\n",
       "      <td>5852.600000</td>\n",
       "    </tr>\n",
       "    <tr>\n",
       "      <th>max</th>\n",
       "      <td>327.700000</td>\n",
       "      <td>328.750000</td>\n",
       "      <td>321.650000</td>\n",
       "      <td>325.950000</td>\n",
       "      <td>325.750000</td>\n",
       "      <td>2.919102e+07</td>\n",
       "      <td>55755.080000</td>\n",
       "    </tr>\n",
       "  </tbody>\n",
       "</table>\n",
       "</div>"
      ],
      "text/plain": [
       "              Open         High          Low         Last        Close  \\\n",
       "count  1235.000000  1235.000000  1235.000000  1235.000000  1235.000000   \n",
       "mean    168.954858   171.429069   166.402308   168.736356   168.731053   \n",
       "std      51.499145    52.436761    50.542919    51.587384    51.544928   \n",
       "min     103.000000   104.600000   100.000000   102.600000   102.650000   \n",
       "25%     137.550000   138.925000   135.250000   137.175000   137.225000   \n",
       "50%     151.500000   153.250000   149.500000   151.200000   151.100000   \n",
       "75%     169.000000   172.325000   166.700000   169.100000   169.500000   \n",
       "max     327.700000   328.750000   321.650000   325.950000   325.750000   \n",
       "\n",
       "       Total Trade Quantity  Turnover (Lacs)  \n",
       "count          1.235000e+03      1235.000000  \n",
       "mean           2.604151e+06      4843.166502  \n",
       "std            2.277028e+06      5348.919832  \n",
       "min            1.001800e+05       128.040000  \n",
       "25%            1.284482e+06      1801.035000  \n",
       "50%            1.964885e+06      3068.510000  \n",
       "75%            3.095788e+06      5852.600000  \n",
       "max            2.919102e+07     55755.080000  "
      ]
     },
     "execution_count": 4,
     "metadata": {},
     "output_type": "execute_result"
    }
   ],
   "source": [
    "dataset.describe()"
   ]
  },
  {
   "cell_type": "code",
   "execution_count": 5,
   "id": "69b64e07",
   "metadata": {
    "execution": {
     "iopub.execute_input": "2022-10-05T11:46:43.098954Z",
     "iopub.status.busy": "2022-10-05T11:46:43.098183Z",
     "iopub.status.idle": "2022-10-05T11:46:43.103841Z",
     "shell.execute_reply": "2022-10-05T11:46:43.103014Z"
    },
    "papermill": {
     "duration": 0.021574,
     "end_time": "2022-10-05T11:46:43.105895",
     "exception": false,
     "start_time": "2022-10-05T11:46:43.084321",
     "status": "completed"
    },
    "tags": []
   },
   "outputs": [],
   "source": [
    "x = dataset[['High','Low','Open','Total Trade Quantity']].values"
   ]
  },
  {
   "cell_type": "code",
   "execution_count": 6,
   "id": "b14f3ebf",
   "metadata": {
    "execution": {
     "iopub.execute_input": "2022-10-05T11:46:43.132046Z",
     "iopub.status.busy": "2022-10-05T11:46:43.131611Z",
     "iopub.status.idle": "2022-10-05T11:46:43.136699Z",
     "shell.execute_reply": "2022-10-05T11:46:43.135601Z"
    },
    "papermill": {
     "duration": 0.020808,
     "end_time": "2022-10-05T11:46:43.138947",
     "exception": false,
     "start_time": "2022-10-05T11:46:43.118139",
     "status": "completed"
    },
    "tags": []
   },
   "outputs": [],
   "source": [
    "y = dataset['Close'].values"
   ]
  },
  {
   "cell_type": "code",
   "execution_count": 7,
   "id": "994f7d15",
   "metadata": {
    "execution": {
     "iopub.execute_input": "2022-10-05T11:46:43.189637Z",
     "iopub.status.busy": "2022-10-05T11:46:43.189270Z",
     "iopub.status.idle": "2022-10-05T11:46:43.195086Z",
     "shell.execute_reply": "2022-10-05T11:46:43.194073Z"
    },
    "papermill": {
     "duration": 0.02155,
     "end_time": "2022-10-05T11:46:43.197085",
     "exception": false,
     "start_time": "2022-10-05T11:46:43.175535",
     "status": "completed"
    },
    "tags": []
   },
   "outputs": [],
   "source": [
    "# splitting x and y into training and testing sets\n",
    "x_train, x_test, y_train, y_test = train_test_split(x, y, test_size=0.2, random_state=0)"
   ]
  },
  {
   "cell_type": "code",
   "execution_count": 8,
   "id": "5a679e65",
   "metadata": {
    "execution": {
     "iopub.execute_input": "2022-10-05T11:46:43.224143Z",
     "iopub.status.busy": "2022-10-05T11:46:43.223700Z",
     "iopub.status.idle": "2022-10-05T11:46:43.228444Z",
     "shell.execute_reply": "2022-10-05T11:46:43.227231Z"
    },
    "papermill": {
     "duration": 0.021109,
     "end_time": "2022-10-05T11:46:43.230640",
     "exception": false,
     "start_time": "2022-10-05T11:46:43.209531",
     "status": "completed"
    },
    "tags": []
   },
   "outputs": [],
   "source": [
    "regressor = LinearRegression()"
   ]
  },
  {
   "cell_type": "code",
   "execution_count": 9,
   "id": "6212ef90",
   "metadata": {
    "execution": {
     "iopub.execute_input": "2022-10-05T11:46:43.259855Z",
     "iopub.status.busy": "2022-10-05T11:46:43.259061Z",
     "iopub.status.idle": "2022-10-05T11:46:43.283144Z",
     "shell.execute_reply": "2022-10-05T11:46:43.282051Z"
    },
    "papermill": {
     "duration": 0.04186,
     "end_time": "2022-10-05T11:46:43.285405",
     "exception": false,
     "start_time": "2022-10-05T11:46:43.243545",
     "status": "completed"
    },
    "tags": []
   },
   "outputs": [
    {
     "data": {
      "text/plain": [
       "LinearRegression()"
      ]
     },
     "execution_count": 9,
     "metadata": {},
     "output_type": "execute_result"
    }
   ],
   "source": [
    "regressor.fit(x_train, y_train)"
   ]
  },
  {
   "cell_type": "code",
   "execution_count": 10,
   "id": "b2c34f33",
   "metadata": {
    "execution": {
     "iopub.execute_input": "2022-10-05T11:46:43.312380Z",
     "iopub.status.busy": "2022-10-05T11:46:43.311636Z",
     "iopub.status.idle": "2022-10-05T11:46:43.318134Z",
     "shell.execute_reply": "2022-10-05T11:46:43.317226Z"
    },
    "papermill": {
     "duration": 0.022433,
     "end_time": "2022-10-05T11:46:43.320322",
     "exception": false,
     "start_time": "2022-10-05T11:46:43.297889",
     "status": "completed"
    },
    "tags": []
   },
   "outputs": [],
   "source": [
    "# making predictions on the testing set\n",
    "predicted = regressor.predict(x_test)"
   ]
  },
  {
   "cell_type": "code",
   "execution_count": 11,
   "id": "d640b470",
   "metadata": {
    "execution": {
     "iopub.execute_input": "2022-10-05T11:46:43.349620Z",
     "iopub.status.busy": "2022-10-05T11:46:43.348954Z",
     "iopub.status.idle": "2022-10-05T11:46:43.357697Z",
     "shell.execute_reply": "2022-10-05T11:46:43.356145Z"
    },
    "papermill": {
     "duration": 0.024923,
     "end_time": "2022-10-05T11:46:43.359841",
     "exception": false,
     "start_time": "2022-10-05T11:46:43.334918",
     "status": "completed"
    },
    "tags": []
   },
   "outputs": [
    {
     "name": "stdout",
     "output_type": "stream",
     "text": [
      "[152.66868039 222.06418483 153.15591516 132.86020316 315.98094891\n",
      " 122.8971619  163.17333265 127.22060284 141.48536073 161.95824254\n",
      " 171.56722021 118.58231288 119.64101604 158.00614483 232.23783105\n",
      " 120.55289197 243.88014705 303.7363437  154.33167176 160.46645321\n",
      " 256.58264184 137.68996277 141.83010801 142.15745062 176.16426181\n",
      " 126.08042276 153.04318564 131.95766307 118.63718415 108.9160029\n",
      " 143.03194789 153.40761035 103.5375959  246.1054607  155.48167715\n",
      " 146.04940999 135.21084774 277.8364117  124.15428489 131.87197113\n",
      " 150.62665123 122.63364624 234.32168226 142.76706088 121.74420385\n",
      " 152.62240142 149.51807396 169.48339371 276.62794896 119.4510858\n",
      " 236.76173423 140.45209611 159.62681416 120.58653818 158.39165032\n",
      " 137.26813633 155.8096123  155.27553928 139.7030553  124.96962538\n",
      " 138.93598643 116.91345962 274.75281083 143.94581051 142.60859766\n",
      " 137.74236462 155.54185621 234.04965372 154.27923476 146.66196288\n",
      " 162.34636113 144.07158563 139.32788916 118.29652765 118.47875401\n",
      " 238.35902787 107.6359965  167.17864434 147.00940442 153.2195969\n",
      " 155.7291729  309.03964958 169.61314695 170.97759463 107.6837\n",
      " 148.62193523 168.96842517 137.65522072 156.41861858 154.33439272\n",
      " 287.82753597 118.26049928 266.48294823 152.65135226 117.51975305\n",
      " 155.57135583 170.51786904 305.31681796 155.652163   159.90229578\n",
      " 157.56302622 119.80827932 155.68542415 273.71479916 118.59336785\n",
      " 154.83184632 127.11650037 153.915514   293.24904283 278.46848871\n",
      " 133.54896442 207.89380139 121.87858104 251.54735109 161.10150412\n",
      " 286.87005199 124.72877751 150.81387128 132.01697946 206.06184047\n",
      " 161.22520437 234.64735499 157.29277401 144.67118913 127.16143966\n",
      " 140.99016473 209.06661678 147.05172838 125.47741897 121.77511831\n",
      " 148.59776833 150.0812672  136.98505852 128.1831457  153.98889472\n",
      " 152.91470006 129.48090525 146.35657932 206.5623457  289.18604833\n",
      " 146.91312658 153.09092141 151.06361167 269.20762194 171.57223895\n",
      " 123.18333819 152.19128152 127.78277295 129.09972049 195.58845805\n",
      " 103.93872911 160.38354886 116.70536741 148.69150335 161.23177874\n",
      " 151.73582719 152.51230126 133.75300306 153.59079488 154.94440112\n",
      " 123.89021887 204.11376007 137.47659518 144.62484548 141.67410564\n",
      " 154.3964283  157.84504666 192.36663819 237.30546459 118.06587618\n",
      " 145.58759385 153.86699068 144.61064939 142.97017514 226.55256063\n",
      " 282.91804228 119.42669699 123.3446269  134.73004435 148.79548612\n",
      " 123.62456617 170.11871677 154.20084036 138.72641695 156.9011003\n",
      " 117.4802713  246.31534103 137.95256223 159.20889269 142.44930295\n",
      " 151.07658299 140.29256479 153.71916944 143.41971607 145.10993913\n",
      " 143.53347269 166.42217276 246.67353633 139.40006733 124.25115392\n",
      " 147.31159086 158.86167523 156.6381633  143.71023658 269.4569437\n",
      " 157.69522455 237.1604748  127.54335146 124.85331704 146.41415696\n",
      " 229.61399161 117.18846472 138.28202684 114.97755061 118.51414521\n",
      " 118.72343978 148.19117796 132.84358652 199.37775667 134.92839204\n",
      " 133.92263627 156.70284024 135.7947479  152.38542616 265.28409091\n",
      " 124.42863675 162.15115653 230.95455521 132.32156985 279.64971489\n",
      " 153.96834254 175.59021658 131.92668774 155.44510034 245.16346569\n",
      " 141.746332   279.79424441 132.05392146 283.08133627 128.80711659\n",
      " 148.67596934 162.10366798 135.04546886 133.18560877 148.51521192\n",
      " 149.90492728 143.03052471]\n"
     ]
    }
   ],
   "source": [
    "print(predicted)"
   ]
  },
  {
   "cell_type": "code",
   "execution_count": 12,
   "id": "1fa498cb",
   "metadata": {
    "execution": {
     "iopub.execute_input": "2022-10-05T11:46:43.387077Z",
     "iopub.status.busy": "2022-10-05T11:46:43.386082Z",
     "iopub.status.idle": "2022-10-05T11:46:43.392325Z",
     "shell.execute_reply": "2022-10-05T11:46:43.391436Z"
    },
    "papermill": {
     "duration": 0.022238,
     "end_time": "2022-10-05T11:46:43.394539",
     "exception": false,
     "start_time": "2022-10-05T11:46:43.372301",
     "status": "completed"
    },
    "tags": []
   },
   "outputs": [],
   "source": [
    "dframe = pd.DataFrame({'Actual':y_test.flatten(), 'Predicted':predicted.flatten()})"
   ]
  },
  {
   "cell_type": "code",
   "execution_count": 13,
   "id": "19571d3d",
   "metadata": {
    "execution": {
     "iopub.execute_input": "2022-10-05T11:46:43.421055Z",
     "iopub.status.busy": "2022-10-05T11:46:43.420658Z",
     "iopub.status.idle": "2022-10-05T11:46:43.436170Z",
     "shell.execute_reply": "2022-10-05T11:46:43.435125Z"
    },
    "papermill": {
     "duration": 0.031661,
     "end_time": "2022-10-05T11:46:43.438615",
     "exception": false,
     "start_time": "2022-10-05T11:46:43.406954",
     "status": "completed"
    },
    "tags": []
   },
   "outputs": [
    {
     "data": {
      "text/html": [
       "<div>\n",
       "<style scoped>\n",
       "    .dataframe tbody tr th:only-of-type {\n",
       "        vertical-align: middle;\n",
       "    }\n",
       "\n",
       "    .dataframe tbody tr th {\n",
       "        vertical-align: top;\n",
       "    }\n",
       "\n",
       "    .dataframe thead th {\n",
       "        text-align: right;\n",
       "    }\n",
       "</style>\n",
       "<table border=\"1\" class=\"dataframe\">\n",
       "  <thead>\n",
       "    <tr style=\"text-align: right;\">\n",
       "      <th></th>\n",
       "      <th>Actual</th>\n",
       "      <th>Predicted</th>\n",
       "    </tr>\n",
       "  </thead>\n",
       "  <tbody>\n",
       "    <tr>\n",
       "      <th>0</th>\n",
       "      <td>153.45</td>\n",
       "      <td>152.668680</td>\n",
       "    </tr>\n",
       "    <tr>\n",
       "      <th>1</th>\n",
       "      <td>222.95</td>\n",
       "      <td>222.064185</td>\n",
       "    </tr>\n",
       "    <tr>\n",
       "      <th>2</th>\n",
       "      <td>152.95</td>\n",
       "      <td>153.155915</td>\n",
       "    </tr>\n",
       "    <tr>\n",
       "      <th>3</th>\n",
       "      <td>132.60</td>\n",
       "      <td>132.860203</td>\n",
       "    </tr>\n",
       "    <tr>\n",
       "      <th>4</th>\n",
       "      <td>317.60</td>\n",
       "      <td>315.980949</td>\n",
       "    </tr>\n",
       "    <tr>\n",
       "      <th>5</th>\n",
       "      <td>122.40</td>\n",
       "      <td>122.897162</td>\n",
       "    </tr>\n",
       "    <tr>\n",
       "      <th>6</th>\n",
       "      <td>160.35</td>\n",
       "      <td>163.173333</td>\n",
       "    </tr>\n",
       "    <tr>\n",
       "      <th>7</th>\n",
       "      <td>128.00</td>\n",
       "      <td>127.220603</td>\n",
       "    </tr>\n",
       "    <tr>\n",
       "      <th>8</th>\n",
       "      <td>141.20</td>\n",
       "      <td>141.485361</td>\n",
       "    </tr>\n",
       "    <tr>\n",
       "      <th>9</th>\n",
       "      <td>162.20</td>\n",
       "      <td>161.958243</td>\n",
       "    </tr>\n",
       "    <tr>\n",
       "      <th>10</th>\n",
       "      <td>174.85</td>\n",
       "      <td>171.567220</td>\n",
       "    </tr>\n",
       "    <tr>\n",
       "      <th>11</th>\n",
       "      <td>118.25</td>\n",
       "      <td>118.582313</td>\n",
       "    </tr>\n",
       "    <tr>\n",
       "      <th>12</th>\n",
       "      <td>120.45</td>\n",
       "      <td>119.641016</td>\n",
       "    </tr>\n",
       "    <tr>\n",
       "      <th>13</th>\n",
       "      <td>157.10</td>\n",
       "      <td>158.006145</td>\n",
       "    </tr>\n",
       "    <tr>\n",
       "      <th>14</th>\n",
       "      <td>233.75</td>\n",
       "      <td>232.237831</td>\n",
       "    </tr>\n",
       "    <tr>\n",
       "      <th>15</th>\n",
       "      <td>118.65</td>\n",
       "      <td>120.552892</td>\n",
       "    </tr>\n",
       "    <tr>\n",
       "      <th>16</th>\n",
       "      <td>242.20</td>\n",
       "      <td>243.880147</td>\n",
       "    </tr>\n",
       "    <tr>\n",
       "      <th>17</th>\n",
       "      <td>302.75</td>\n",
       "      <td>303.736344</td>\n",
       "    </tr>\n",
       "    <tr>\n",
       "      <th>18</th>\n",
       "      <td>153.35</td>\n",
       "      <td>154.331672</td>\n",
       "    </tr>\n",
       "    <tr>\n",
       "      <th>19</th>\n",
       "      <td>158.80</td>\n",
       "      <td>160.466453</td>\n",
       "    </tr>\n",
       "    <tr>\n",
       "      <th>20</th>\n",
       "      <td>255.25</td>\n",
       "      <td>256.582642</td>\n",
       "    </tr>\n",
       "    <tr>\n",
       "      <th>21</th>\n",
       "      <td>138.65</td>\n",
       "      <td>137.689963</td>\n",
       "    </tr>\n",
       "    <tr>\n",
       "      <th>22</th>\n",
       "      <td>142.70</td>\n",
       "      <td>141.830108</td>\n",
       "    </tr>\n",
       "    <tr>\n",
       "      <th>23</th>\n",
       "      <td>142.55</td>\n",
       "      <td>142.157451</td>\n",
       "    </tr>\n",
       "    <tr>\n",
       "      <th>24</th>\n",
       "      <td>175.15</td>\n",
       "      <td>176.164262</td>\n",
       "    </tr>\n",
       "    <tr>\n",
       "      <th>25</th>\n",
       "      <td>126.50</td>\n",
       "      <td>126.080423</td>\n",
       "    </tr>\n",
       "    <tr>\n",
       "      <th>26</th>\n",
       "      <td>153.10</td>\n",
       "      <td>153.043186</td>\n",
       "    </tr>\n",
       "    <tr>\n",
       "      <th>27</th>\n",
       "      <td>132.15</td>\n",
       "      <td>131.957663</td>\n",
       "    </tr>\n",
       "    <tr>\n",
       "      <th>28</th>\n",
       "      <td>118.05</td>\n",
       "      <td>118.637184</td>\n",
       "    </tr>\n",
       "    <tr>\n",
       "      <th>29</th>\n",
       "      <td>109.10</td>\n",
       "      <td>108.916003</td>\n",
       "    </tr>\n",
       "    <tr>\n",
       "      <th>30</th>\n",
       "      <td>142.15</td>\n",
       "      <td>143.031948</td>\n",
       "    </tr>\n",
       "    <tr>\n",
       "      <th>31</th>\n",
       "      <td>153.90</td>\n",
       "      <td>153.407610</td>\n",
       "    </tr>\n",
       "    <tr>\n",
       "      <th>32</th>\n",
       "      <td>106.20</td>\n",
       "      <td>103.537596</td>\n",
       "    </tr>\n",
       "    <tr>\n",
       "      <th>33</th>\n",
       "      <td>243.25</td>\n",
       "      <td>246.105461</td>\n",
       "    </tr>\n",
       "    <tr>\n",
       "      <th>34</th>\n",
       "      <td>153.80</td>\n",
       "      <td>155.481677</td>\n",
       "    </tr>\n",
       "    <tr>\n",
       "      <th>35</th>\n",
       "      <td>145.95</td>\n",
       "      <td>146.049410</td>\n",
       "    </tr>\n",
       "    <tr>\n",
       "      <th>36</th>\n",
       "      <td>135.70</td>\n",
       "      <td>135.210848</td>\n",
       "    </tr>\n",
       "    <tr>\n",
       "      <th>37</th>\n",
       "      <td>278.25</td>\n",
       "      <td>277.836412</td>\n",
       "    </tr>\n",
       "    <tr>\n",
       "      <th>38</th>\n",
       "      <td>123.90</td>\n",
       "      <td>124.154285</td>\n",
       "    </tr>\n",
       "    <tr>\n",
       "      <th>39</th>\n",
       "      <td>132.60</td>\n",
       "      <td>131.871971</td>\n",
       "    </tr>\n",
       "    <tr>\n",
       "      <th>40</th>\n",
       "      <td>152.05</td>\n",
       "      <td>150.626651</td>\n",
       "    </tr>\n",
       "    <tr>\n",
       "      <th>41</th>\n",
       "      <td>121.95</td>\n",
       "      <td>122.633646</td>\n",
       "    </tr>\n",
       "    <tr>\n",
       "      <th>42</th>\n",
       "      <td>233.10</td>\n",
       "      <td>234.321682</td>\n",
       "    </tr>\n",
       "    <tr>\n",
       "      <th>43</th>\n",
       "      <td>144.80</td>\n",
       "      <td>142.767061</td>\n",
       "    </tr>\n",
       "    <tr>\n",
       "      <th>44</th>\n",
       "      <td>121.25</td>\n",
       "      <td>121.744204</td>\n",
       "    </tr>\n",
       "    <tr>\n",
       "      <th>45</th>\n",
       "      <td>152.10</td>\n",
       "      <td>152.622401</td>\n",
       "    </tr>\n",
       "    <tr>\n",
       "      <th>46</th>\n",
       "      <td>147.95</td>\n",
       "      <td>149.518074</td>\n",
       "    </tr>\n",
       "    <tr>\n",
       "      <th>47</th>\n",
       "      <td>169.50</td>\n",
       "      <td>169.483394</td>\n",
       "    </tr>\n",
       "    <tr>\n",
       "      <th>48</th>\n",
       "      <td>278.20</td>\n",
       "      <td>276.627949</td>\n",
       "    </tr>\n",
       "    <tr>\n",
       "      <th>49</th>\n",
       "      <td>119.30</td>\n",
       "      <td>119.451086</td>\n",
       "    </tr>\n",
       "  </tbody>\n",
       "</table>\n",
       "</div>"
      ],
      "text/plain": [
       "    Actual   Predicted\n",
       "0   153.45  152.668680\n",
       "1   222.95  222.064185\n",
       "2   152.95  153.155915\n",
       "3   132.60  132.860203\n",
       "4   317.60  315.980949\n",
       "5   122.40  122.897162\n",
       "6   160.35  163.173333\n",
       "7   128.00  127.220603\n",
       "8   141.20  141.485361\n",
       "9   162.20  161.958243\n",
       "10  174.85  171.567220\n",
       "11  118.25  118.582313\n",
       "12  120.45  119.641016\n",
       "13  157.10  158.006145\n",
       "14  233.75  232.237831\n",
       "15  118.65  120.552892\n",
       "16  242.20  243.880147\n",
       "17  302.75  303.736344\n",
       "18  153.35  154.331672\n",
       "19  158.80  160.466453\n",
       "20  255.25  256.582642\n",
       "21  138.65  137.689963\n",
       "22  142.70  141.830108\n",
       "23  142.55  142.157451\n",
       "24  175.15  176.164262\n",
       "25  126.50  126.080423\n",
       "26  153.10  153.043186\n",
       "27  132.15  131.957663\n",
       "28  118.05  118.637184\n",
       "29  109.10  108.916003\n",
       "30  142.15  143.031948\n",
       "31  153.90  153.407610\n",
       "32  106.20  103.537596\n",
       "33  243.25  246.105461\n",
       "34  153.80  155.481677\n",
       "35  145.95  146.049410\n",
       "36  135.70  135.210848\n",
       "37  278.25  277.836412\n",
       "38  123.90  124.154285\n",
       "39  132.60  131.871971\n",
       "40  152.05  150.626651\n",
       "41  121.95  122.633646\n",
       "42  233.10  234.321682\n",
       "43  144.80  142.767061\n",
       "44  121.25  121.744204\n",
       "45  152.10  152.622401\n",
       "46  147.95  149.518074\n",
       "47  169.50  169.483394\n",
       "48  278.20  276.627949\n",
       "49  119.30  119.451086"
      ]
     },
     "execution_count": 13,
     "metadata": {},
     "output_type": "execute_result"
    }
   ],
   "source": [
    "dframe.head(50)"
   ]
  },
  {
   "cell_type": "code",
   "execution_count": 14,
   "id": "110e9af7",
   "metadata": {
    "execution": {
     "iopub.execute_input": "2022-10-05T11:46:43.466832Z",
     "iopub.status.busy": "2022-10-05T11:46:43.466232Z",
     "iopub.status.idle": "2022-10-05T11:46:43.470267Z",
     "shell.execute_reply": "2022-10-05T11:46:43.469507Z"
    },
    "papermill": {
     "duration": 0.020373,
     "end_time": "2022-10-05T11:46:43.472222",
     "exception": false,
     "start_time": "2022-10-05T11:46:43.451849",
     "status": "completed"
    },
    "tags": []
   },
   "outputs": [],
   "source": [
    "graph = dframe.head(25)"
   ]
  },
  {
   "cell_type": "code",
   "execution_count": 15,
   "id": "93ca73e6",
   "metadata": {
    "execution": {
     "iopub.execute_input": "2022-10-05T11:46:43.500385Z",
     "iopub.status.busy": "2022-10-05T11:46:43.499791Z",
     "iopub.status.idle": "2022-10-05T11:46:43.759024Z",
     "shell.execute_reply": "2022-10-05T11:46:43.757894Z"
    },
    "papermill": {
     "duration": 0.276107,
     "end_time": "2022-10-05T11:46:43.761508",
     "exception": false,
     "start_time": "2022-10-05T11:46:43.485401",
     "status": "completed"
    },
    "tags": []
   },
   "outputs": [
    {
     "data": {
      "text/plain": [
       "<AxesSubplot:>"
      ]
     },
     "execution_count": 15,
     "metadata": {},
     "output_type": "execute_result"
    },
    {
     "data": {
      "image/png": "[encoded data removed]",
      "text/plain": [
       "<Figure size 432x288 with 1 Axes>"
      ]
     },
     "metadata": {
      "needs_background": "light"
     },
     "output_type": "display_data"
    }
   ],
   "source": [
    "graph.plot()"
   ]
  },
  {
   "cell_type": "code",
   "execution_count": 16,
   "id": "85229d3d",
   "metadata": {
    "execution": {
     "iopub.execute_input": "2022-10-05T11:46:43.791716Z",
     "iopub.status.busy": "2022-10-05T11:46:43.790570Z",
     "iopub.status.idle": "2022-10-05T11:46:44.165867Z",
     "shell.execute_reply": "2022-10-05T11:46:44.164689Z"
    },
    "papermill": {
     "duration": 0.392365,
     "end_time": "2022-10-05T11:46:44.168191",
     "exception": false,
     "start_time": "2022-10-05T11:46:43.775826",
     "status": "completed"
    },
    "tags": []
   },
   "outputs": [
    {
     "data": {
      "text/plain": [
       "<AxesSubplot:>"
      ]
     },
     "execution_count": 16,
     "metadata": {},
     "output_type": "execute_result"
    },
    {
     "data": {
      "image/png": "[encoded data removed]",
      "text/plain": [
       "<Figure size 432x288 with 1 Axes>"
      ]
     },
     "metadata": {
      "needs_background": "light"
     },
     "output_type": "display_data"
    }
   ],
   "source": [
    "graph.plot(kind='bar')"
   ]
  },
  {
   "cell_type": "code",
   "execution_count": 17,
   "id": "7eb89593",
   "metadata": {
    "execution": {
     "iopub.execute_input": "2022-10-05T11:46:44.253387Z",
     "iopub.status.busy": "2022-10-05T11:46:44.252412Z",
     "iopub.status.idle": "2022-10-05T11:46:44.277154Z",
     "shell.execute_reply": "2022-10-05T11:46:44.276019Z"
    },
    "papermill": {
     "duration": 0.042361,
     "end_time": "2022-10-05T11:46:44.279636",
     "exception": false,
     "start_time": "2022-10-05T11:46:44.237275",
     "status": "completed"
    },
    "tags": []
   },
   "outputs": [
    {
     "data": {
      "text/html": [
       "<div>\n",
       "<style scoped>\n",
       "    .dataframe tbody tr th:only-of-type {\n",
       "        vertical-align: middle;\n",
       "    }\n",
       "\n",
       "    .dataframe tbody tr th {\n",
       "        vertical-align: top;\n",
       "    }\n",
       "\n",
       "    .dataframe thead th {\n",
       "        text-align: right;\n",
       "    }\n",
       "</style>\n",
       "<table border=\"1\" class=\"dataframe\">\n",
       "  <thead>\n",
       "    <tr style=\"text-align: right;\">\n",
       "      <th></th>\n",
       "      <th>Date</th>\n",
       "      <th>Open</th>\n",
       "      <th>High</th>\n",
       "      <th>Low</th>\n",
       "      <th>Last</th>\n",
       "      <th>Close</th>\n",
       "      <th>Total Trade Quantity</th>\n",
       "      <th>Turnover (Lacs)</th>\n",
       "    </tr>\n",
       "  </thead>\n",
       "  <tbody>\n",
       "    <tr>\n",
       "      <th>0</th>\n",
       "      <td>2018-10-08</td>\n",
       "      <td>208.00</td>\n",
       "      <td>222.25</td>\n",
       "      <td>206.85</td>\n",
       "      <td>216.00</td>\n",
       "      <td>215.15</td>\n",
       "      <td>4642146.0</td>\n",
       "      <td>10062.83</td>\n",
       "    </tr>\n",
       "    <tr>\n",
       "      <th>1</th>\n",
       "      <td>2018-10-05</td>\n",
       "      <td>217.00</td>\n",
       "      <td>218.60</td>\n",
       "      <td>205.90</td>\n",
       "      <td>210.25</td>\n",
       "      <td>209.20</td>\n",
       "      <td>3519515.0</td>\n",
       "      <td>7407.06</td>\n",
       "    </tr>\n",
       "    <tr>\n",
       "      <th>2</th>\n",
       "      <td>2018-10-04</td>\n",
       "      <td>223.50</td>\n",
       "      <td>227.80</td>\n",
       "      <td>216.15</td>\n",
       "      <td>217.25</td>\n",
       "      <td>218.20</td>\n",
       "      <td>1728786.0</td>\n",
       "      <td>3815.79</td>\n",
       "    </tr>\n",
       "    <tr>\n",
       "      <th>3</th>\n",
       "      <td>2018-10-03</td>\n",
       "      <td>230.00</td>\n",
       "      <td>237.50</td>\n",
       "      <td>225.75</td>\n",
       "      <td>226.45</td>\n",
       "      <td>227.60</td>\n",
       "      <td>1708590.0</td>\n",
       "      <td>3960.27</td>\n",
       "    </tr>\n",
       "    <tr>\n",
       "      <th>4</th>\n",
       "      <td>2018-10-01</td>\n",
       "      <td>234.55</td>\n",
       "      <td>234.60</td>\n",
       "      <td>221.05</td>\n",
       "      <td>230.30</td>\n",
       "      <td>230.90</td>\n",
       "      <td>1534749.0</td>\n",
       "      <td>3486.05</td>\n",
       "    </tr>\n",
       "  </tbody>\n",
       "</table>\n",
       "</div>"
      ],
      "text/plain": [
       "         Date    Open    High     Low    Last   Close  Total Trade Quantity  \\\n",
       "0  2018-10-08  208.00  222.25  206.85  216.00  215.15             4642146.0   \n",
       "1  2018-10-05  217.00  218.60  205.90  210.25  209.20             3519515.0   \n",
       "2  2018-10-04  223.50  227.80  216.15  217.25  218.20             1728786.0   \n",
       "3  2018-10-03  230.00  237.50  225.75  226.45  227.60             1708590.0   \n",
       "4  2018-10-01  234.55  234.60  221.05  230.30  230.90             1534749.0   \n",
       "\n",
       "   Turnover (Lacs)  \n",
       "0         10062.83  \n",
       "1          7407.06  \n",
       "2          3815.79  \n",
       "3          3960.27  \n",
       "4          3486.05  "
      ]
     },
     "execution_count": 17,
     "metadata": {},
     "output_type": "execute_result"
    }
   ],
   "source": [
    "#import packages\n",
    "import pandas as pd\n",
    "import numpy as np\n",
    "\n",
    "#to plot within notebook\n",
    "import matplotlib.pyplot as plt\n",
    "%matplotlib inline\n",
    "\n",
    "#for normalizing data\n",
    "from sklearn.preprocessing import MinMaxScaler\n",
    "scaler = MinMaxScaler(feature_range=(0, 1))\n",
    "\n",
    "#read the file\n",
    "df = pd.read_csv(\"../input/nsetataglobal/NSE-TATAGLOBAL11.csv\")\n",
    "\n",
    "#print the head\n",
    "df.head()"
   ]
  },
  {
   "cell_type": "code",
   "execution_count": 18,
   "id": "b3be7c9f",
   "metadata": {
    "execution": {
     "iopub.execute_input": "2022-10-05T11:46:44.309521Z",
     "iopub.status.busy": "2022-10-05T11:46:44.309164Z",
     "iopub.status.idle": "2022-10-05T11:46:44.556268Z",
     "shell.execute_reply": "2022-10-05T11:46:44.555215Z"
    },
    "papermill": {
     "duration": 0.264628,
     "end_time": "2022-10-05T11:46:44.558581",
     "exception": false,
     "start_time": "2022-10-05T11:46:44.293953",
     "status": "completed"
    },
    "tags": []
   },
   "outputs": [
    {
     "data": {
      "text/plain": [
       "[<matplotlib.lines.Line2D at 0x7f288c5109d0>]"
      ]
     },
     "execution_count": 18,
     "metadata": {},
     "output_type": "execute_result"
    },
    {
     "data": {
      "image/png": "[encoded data removed]",
      "text/plain": [
       "<Figure size 1152x576 with 1 Axes>"
      ]
     },
     "metadata": {
      "needs_background": "light"
     },
     "output_type": "display_data"
    }
   ],
   "source": [
    "#setting index as date\n",
    "df['Date'] = pd.to_datetime(df.Date,format='%Y-%m-%d')\n",
    "df.index = df['Date']\n",
    "#plot\n",
    "plt.figure(figsize=(16,8))\n",
    "plt.plot(df['Close'], label='Close Price history')"
   ]
  },
  {
   "cell_type": "code",
   "execution_count": 19,
   "id": "4f719742",
   "metadata": {
    "execution": {
     "iopub.execute_input": "2022-10-05T11:46:44.621474Z",
     "iopub.status.busy": "2022-10-05T11:46:44.621034Z",
     "iopub.status.idle": "2022-10-05T11:46:44.799731Z",
     "shell.execute_reply": "2022-10-05T11:46:44.798551Z"
    },
    "papermill": {
     "duration": 0.19807,
     "end_time": "2022-10-05T11:46:44.802442",
     "exception": false,
     "start_time": "2022-10-05T11:46:44.604372",
     "status": "completed"
    },
    "tags": []
   },
   "outputs": [],
   "source": [
    "#sorting\n",
    "data = df.sort_index(ascending=True, axis=0)\n",
    "\n",
    "#creating a separate dataset\n",
    "new_data = pd.DataFrame(index=range(0,len(df)),columns=['Date', 'Close'])\n",
    "\n",
    "for i in range(0,len(data)):\n",
    "    new_data['Date'][i] = data['Date'][i]\n",
    "    new_data['Close'][i] = data['Close'][i]\n"
   ]
  },
  {
   "cell_type": "code",
   "execution_count": 20,
   "id": "746b3b74",
   "metadata": {
    "execution": {
     "iopub.execute_input": "2022-10-05T11:46:44.836078Z",
     "iopub.status.busy": "2022-10-05T11:46:44.834944Z",
     "iopub.status.idle": "2022-10-05T11:46:46.799064Z",
     "shell.execute_reply": "2022-10-05T11:46:46.798024Z"
    },
    "papermill": {
     "duration": 1.983852,
     "end_time": "2022-10-05T11:46:46.801884",
     "exception": false,
     "start_time": "2022-10-05T11:46:44.818032",
     "status": "completed"
    },
    "tags": []
   },
   "outputs": [],
   "source": [
    "#create features\n",
    "from fastai.tabular.core import add_datepart\n",
    "#from fastai import add_datepart\n",
    "\n",
    "add_datepart(new_data, 'Date')\n",
    "new_data.drop('Elapsed', axis=1, inplace=True)  #elapsed will be the time stamp\n",
    "#print(new_data)"
   ]
  },
  {
   "cell_type": "code",
   "execution_count": 21,
   "id": "c1ea3e98",
   "metadata": {
    "execution": {
     "iopub.execute_input": "2022-10-05T11:46:46.835813Z",
     "iopub.status.busy": "2022-10-05T11:46:46.834839Z",
     "iopub.status.idle": "2022-10-05T11:46:47.189096Z",
     "shell.execute_reply": "2022-10-05T11:46:47.187678Z"
    },
    "papermill": {
     "duration": 0.373856,
     "end_time": "2022-10-05T11:46:47.191377",
     "exception": false,
     "start_time": "2022-10-05T11:46:46.817521",
     "status": "completed"
    },
    "tags": []
   },
   "outputs": [
    {
     "name": "stdout",
     "output_type": "stream",
     "text": [
      "       Close  Year  Month  Week  Day  Dayofweek  Dayofyear  Is_month_end  \\\n",
      "0      155.8  2013     10    41    8          1        281         False   \n",
      "1     155.55  2013     10    41    9          2        282         False   \n",
      "2     160.15  2013     10    41   10          3        283         False   \n",
      "3     160.05  2013     10    41   11          4        284         False   \n",
      "4     159.45  2013     10    42   14          0        287         False   \n",
      "...      ...   ...    ...   ...  ...        ...        ...           ...   \n",
      "1230   230.9  2018     10    40    1          0        274         False   \n",
      "1231   227.6  2018     10    40    3          2        276         False   \n",
      "1232   218.2  2018     10    40    4          3        277         False   \n",
      "1233   209.2  2018     10    40    5          4        278         False   \n",
      "1234  215.15  2018     10    41    8          0        281         False   \n",
      "\n",
      "      Is_month_start  Is_quarter_end  Is_quarter_start  Is_year_end  \\\n",
      "0              False           False             False        False   \n",
      "1              False           False             False        False   \n",
      "2              False           False             False        False   \n",
      "3              False           False             False        False   \n",
      "4              False           False             False        False   \n",
      "...              ...             ...               ...          ...   \n",
      "1230            True           False              True        False   \n",
      "1231           False           False             False        False   \n",
      "1232           False           False             False        False   \n",
      "1233           False           False             False        False   \n",
      "1234           False           False             False        False   \n",
      "\n",
      "      Is_year_start  mon_fri  \n",
      "0             False        0  \n",
      "1             False        0  \n",
      "2             False        0  \n",
      "3             False        1  \n",
      "4             False        1  \n",
      "...             ...      ...  \n",
      "1230          False        1  \n",
      "1231          False        0  \n",
      "1232          False        0  \n",
      "1233          False        1  \n",
      "1234          False        1  \n",
      "\n",
      "[1235 rows x 14 columns]\n"
     ]
    }
   ],
   "source": [
    "new_data['mon_fri'] = 0\n",
    "#print(new_data)\n",
    "# disable chained assignments\n",
    "pd.options.mode.chained_assignment = None \n",
    "for i in range(0,len(new_data)):\n",
    "    if (new_data['Dayofweek'][i] == 0 or new_data['Dayofweek'][i] == 4):\n",
    "        new_data['mon_fri'][i] = 1\n",
    "    else:\n",
    "        new_data['mon_fri'][i] = 0\n",
    "print(new_data)"
   ]
  },
  {
   "cell_type": "code",
   "execution_count": 22,
   "id": "3bb077f6",
   "metadata": {
    "execution": {
     "iopub.execute_input": "2022-10-05T11:46:47.223991Z",
     "iopub.status.busy": "2022-10-05T11:46:47.223159Z",
     "iopub.status.idle": "2022-10-05T11:46:47.243727Z",
     "shell.execute_reply": "2022-10-05T11:46:47.242576Z"
    },
    "papermill": {
     "duration": 0.040123,
     "end_time": "2022-10-05T11:46:47.247008",
     "exception": false,
     "start_time": "2022-10-05T11:46:47.206885",
     "status": "completed"
    },
    "tags": []
   },
   "outputs": [
    {
     "data": {
      "text/plain": [
       "LinearRegression()"
      ]
     },
     "execution_count": 22,
     "metadata": {},
     "output_type": "execute_result"
    }
   ],
   "source": [
    "#split into train and validation\n",
    "train = new_data[:900]\n",
    "valid = new_data[900:]\n",
    "\n",
    "x_train = train.drop('Close', axis=1)\n",
    "y_train = train['Close']\n",
    "x_valid = valid.drop('Close', axis=1)\n",
    "y_valid = valid['Close']\n",
    "\n",
    "#implement linear regression\n",
    "from sklearn.linear_model import LinearRegression\n",
    "model = LinearRegression()\n",
    "model.fit(x_train,y_train)"
   ]
  },
  {
   "cell_type": "code",
   "execution_count": 23,
   "id": "d9aeb1e4",
   "metadata": {
    "execution": {
     "iopub.execute_input": "2022-10-05T11:46:47.300725Z",
     "iopub.status.busy": "2022-10-05T11:46:47.299718Z",
     "iopub.status.idle": "2022-10-05T11:46:47.313290Z",
     "shell.execute_reply": "2022-10-05T11:46:47.312164Z"
    },
    "papermill": {
     "duration": 0.043421,
     "end_time": "2022-10-05T11:46:47.316119",
     "exception": false,
     "start_time": "2022-10-05T11:46:47.272698",
     "status": "completed"
    },
    "tags": []
   },
   "outputs": [
    {
     "data": {
      "text/plain": [
       "123.88430403535587"
      ]
     },
     "execution_count": 23,
     "metadata": {},
     "output_type": "execute_result"
    }
   ],
   "source": [
    "#make predictions and find the rmse\n",
    "preds = model.predict(x_valid)\n",
    "rms=np.sqrt(np.mean(np.power((np.array(y_valid)-np.array(preds)),2)))\n",
    "rms"
   ]
  },
  {
   "cell_type": "code",
   "execution_count": 24,
   "id": "bd12d2a4",
   "metadata": {
    "execution": {
     "iopub.execute_input": "2022-10-05T11:46:47.395313Z",
     "iopub.status.busy": "2022-10-05T11:46:47.394595Z",
     "iopub.status.idle": "2022-10-05T11:46:47.404590Z",
     "shell.execute_reply": "2022-10-05T11:46:47.403860Z"
    },
    "papermill": {
     "duration": 0.028599,
     "end_time": "2022-10-05T11:46:47.406556",
     "exception": false,
     "start_time": "2022-10-05T11:46:47.377957",
     "status": "completed"
    },
    "tags": []
   },
   "outputs": [
    {
     "data": {
      "text/html": [
       "<div>\n",
       "<style scoped>\n",
       "    .dataframe tbody tr th:only-of-type {\n",
       "        vertical-align: middle;\n",
       "    }\n",
       "\n",
       "    .dataframe tbody tr th {\n",
       "        vertical-align: top;\n",
       "    }\n",
       "\n",
       "    .dataframe thead th {\n",
       "        text-align: right;\n",
       "    }\n",
       "</style>\n",
       "<table border=\"1\" class=\"dataframe\">\n",
       "  <thead>\n",
       "    <tr style=\"text-align: right;\">\n",
       "      <th></th>\n",
       "      <th>Actual</th>\n",
       "      <th>Predicted</th>\n",
       "    </tr>\n",
       "  </thead>\n",
       "  <tbody>\n",
       "    <tr>\n",
       "      <th>900</th>\n",
       "      <td>154.85</td>\n",
       "      <td>132.655937</td>\n",
       "    </tr>\n",
       "    <tr>\n",
       "      <th>901</th>\n",
       "      <td>154.95</td>\n",
       "      <td>131.914182</td>\n",
       "    </tr>\n",
       "    <tr>\n",
       "      <th>902</th>\n",
       "      <td>153.0</td>\n",
       "      <td>131.907518</td>\n",
       "    </tr>\n",
       "    <tr>\n",
       "      <th>903</th>\n",
       "      <td>155.55</td>\n",
       "      <td>132.012261</td>\n",
       "    </tr>\n",
       "    <tr>\n",
       "      <th>904</th>\n",
       "      <td>154.6</td>\n",
       "      <td>132.117004</td>\n",
       "    </tr>\n",
       "  </tbody>\n",
       "</table>\n",
       "</div>"
      ],
      "text/plain": [
       "     Actual   Predicted\n",
       "900  154.85  132.655937\n",
       "901  154.95  131.914182\n",
       "902   153.0  131.907518\n",
       "903  155.55  132.012261\n",
       "904   154.6  132.117004"
      ]
     },
     "execution_count": 24,
     "metadata": {},
     "output_type": "execute_result"
    }
   ],
   "source": [
    "#print(preds)\n",
    "dframe1 = pd.DataFrame({'Actual':y_valid, 'Predicted':preds})\n",
    "dframe1.head(5)"
   ]
  },
  {
   "cell_type": "code",
   "execution_count": 25,
   "id": "3b9ed524",
   "metadata": {
    "execution": {
     "iopub.execute_input": "2022-10-05T11:46:47.439813Z",
     "iopub.status.busy": "2022-10-05T11:46:47.439169Z",
     "iopub.status.idle": "2022-10-05T11:46:47.448086Z",
     "shell.execute_reply": "2022-10-05T11:46:47.447217Z"
    },
    "papermill": {
     "duration": 0.027616,
     "end_time": "2022-10-05T11:46:47.450178",
     "exception": false,
     "start_time": "2022-10-05T11:46:47.422562",
     "status": "completed"
    },
    "tags": []
   },
   "outputs": [
    {
     "data": {
      "text/html": [
       "<div>\n",
       "<style scoped>\n",
       "    .dataframe tbody tr th:only-of-type {\n",
       "        vertical-align: middle;\n",
       "    }\n",
       "\n",
       "    .dataframe tbody tr th {\n",
       "        vertical-align: top;\n",
       "    }\n",
       "\n",
       "    .dataframe thead th {\n",
       "        text-align: right;\n",
       "    }\n",
       "</style>\n",
       "<table border=\"1\" class=\"dataframe\">\n",
       "  <thead>\n",
       "    <tr style=\"text-align: right;\">\n",
       "      <th></th>\n",
       "      <th>Actual</th>\n",
       "      <th>Predicted</th>\n",
       "    </tr>\n",
       "  </thead>\n",
       "  <tbody>\n",
       "    <tr>\n",
       "      <th>1230</th>\n",
       "      <td>230.9</td>\n",
       "      <td>122.281028</td>\n",
       "    </tr>\n",
       "    <tr>\n",
       "      <th>1231</th>\n",
       "      <td>227.6</td>\n",
       "      <td>122.891197</td>\n",
       "    </tr>\n",
       "    <tr>\n",
       "      <th>1232</th>\n",
       "      <td>218.2</td>\n",
       "      <td>122.995940</td>\n",
       "    </tr>\n",
       "    <tr>\n",
       "      <th>1233</th>\n",
       "      <td>209.2</td>\n",
       "      <td>123.212090</td>\n",
       "    </tr>\n",
       "    <tr>\n",
       "      <th>1234</th>\n",
       "      <td>215.15</td>\n",
       "      <td>122.470335</td>\n",
       "    </tr>\n",
       "  </tbody>\n",
       "</table>\n",
       "</div>"
      ],
      "text/plain": [
       "      Actual   Predicted\n",
       "1230   230.9  122.281028\n",
       "1231   227.6  122.891197\n",
       "1232   218.2  122.995940\n",
       "1233   209.2  123.212090\n",
       "1234  215.15  122.470335"
      ]
     },
     "execution_count": 25,
     "metadata": {},
     "output_type": "execute_result"
    }
   ],
   "source": [
    "dframe1.tail(5)"
   ]
  },
  {
   "cell_type": "code",
   "execution_count": 26,
   "id": "74604a97",
   "metadata": {
    "execution": {
     "iopub.execute_input": "2022-10-05T11:46:47.483556Z",
     "iopub.status.busy": "2022-10-05T11:46:47.483159Z",
     "iopub.status.idle": "2022-10-05T11:46:47.713273Z",
     "shell.execute_reply": "2022-10-05T11:46:47.712443Z"
    },
    "papermill": {
     "duration": 0.249283,
     "end_time": "2022-10-05T11:46:47.715321",
     "exception": false,
     "start_time": "2022-10-05T11:46:47.466038",
     "status": "completed"
    },
    "tags": []
   },
   "outputs": [
    {
     "data": {
      "text/plain": [
       "[<matplotlib.lines.Line2D at 0x7f287275b150>,\n",
       " <matplotlib.lines.Line2D at 0x7f287275b450>]"
      ]
     },
     "execution_count": 26,
     "metadata": {},
     "output_type": "execute_result"
    },
    {
     "data": {
      "image/png": "[encoded data removed]",
      "text/plain": [
       "<Figure size 1152x576 with 1 Axes>"
      ]
     },
     "metadata": {
      "needs_background": "light"
     },
     "output_type": "display_data"
    }
   ],
   "source": [
    "#plot\n",
    "valid['Predictions'] = 0\n",
    "valid['Predictions'] = preds\n",
    "\n",
    "valid.index = new_data[900:].index\n",
    "train.index = new_data[:900].index\n",
    "\n",
    "plt.figure(figsize=(16,8))\n",
    "plt.plot(train['Close'])\n",
    "plt.plot(valid[['Close', 'Predictions']])\n"
   ]
  },
  {
   "cell_type": "code",
   "execution_count": 27,
   "id": "ed93797e",
   "metadata": {
    "execution": {
     "iopub.execute_input": "2022-10-05T11:46:47.818248Z",
     "iopub.status.busy": "2022-10-05T11:46:47.817523Z",
     "iopub.status.idle": "2022-10-05T11:46:47.869237Z",
     "shell.execute_reply": "2022-10-05T11:46:47.868207Z"
    },
    "papermill": {
     "duration": 0.072172,
     "end_time": "2022-10-05T11:46:47.871710",
     "exception": false,
     "start_time": "2022-10-05T11:46:47.799538",
     "status": "completed"
    },
    "tags": []
   },
   "outputs": [],
   "source": [
    "#importing libraries\n",
    "from sklearn import neighbors\n",
    "from sklearn.model_selection import GridSearchCV\n",
    "from sklearn.preprocessing import MinMaxScaler\n",
    "scaler = MinMaxScaler(feature_range=(0, 1))"
   ]
  },
  {
   "cell_type": "code",
   "execution_count": 28,
   "id": "14ae9c76",
   "metadata": {
    "execution": {
     "iopub.execute_input": "2022-10-05T11:46:47.908225Z",
     "iopub.status.busy": "2022-10-05T11:46:47.907585Z",
     "iopub.status.idle": "2022-10-05T11:46:48.208888Z",
     "shell.execute_reply": "2022-10-05T11:46:48.207789Z"
    },
    "papermill": {
     "duration": 0.321986,
     "end_time": "2022-10-05T11:46:48.211552",
     "exception": false,
     "start_time": "2022-10-05T11:46:47.889566",
     "status": "completed"
    },
    "tags": []
   },
   "outputs": [],
   "source": [
    "#scaling data\n",
    "x_train_scaled = scaler.fit_transform(x_train)\n",
    "x_train = pd.DataFrame(x_train_scaled)\n",
    "x_valid_scaled = scaler.fit_transform(x_valid)\n",
    "x_valid = pd.DataFrame(x_valid_scaled)\n",
    "\n",
    "#using gridsearch to find the best parameter\n",
    "params = {'n_neighbors':[2,3,4,5,6,7,8,9]}\n",
    "knn = neighbors.KNeighborsRegressor()\n",
    "model = GridSearchCV(knn, params, cv=5)\n",
    "\n",
    "#fit the model and make predictions\n",
    "model.fit(x_train,y_train)\n",
    "preds = model.predict(x_valid)\n",
    "#plt.plot(preds)"
   ]
  },
  {
   "cell_type": "code",
   "execution_count": 29,
   "id": "951321fa",
   "metadata": {
    "execution": {
     "iopub.execute_input": "2022-10-05T11:46:48.247717Z",
     "iopub.status.busy": "2022-10-05T11:46:48.246780Z",
     "iopub.status.idle": "2022-10-05T11:46:48.254173Z",
     "shell.execute_reply": "2022-10-05T11:46:48.253040Z"
    },
    "papermill": {
     "duration": 0.027512,
     "end_time": "2022-10-05T11:46:48.256422",
     "exception": false,
     "start_time": "2022-10-05T11:46:48.228910",
     "status": "completed"
    },
    "tags": []
   },
   "outputs": [
    {
     "name": "stdout",
     "output_type": "stream",
     "text": [
      "900     154.85\n",
      "901     154.95\n",
      "902      153.0\n",
      "903     155.55\n",
      "904      154.6\n",
      "         ...  \n",
      "1230     230.9\n",
      "1231     227.6\n",
      "1232     218.2\n",
      "1233     209.2\n",
      "1234    215.15\n",
      "Name: Close, Length: 335, dtype: object\n"
     ]
    }
   ],
   "source": [
    "print(y_valid)"
   ]
  },
  {
   "cell_type": "code",
   "execution_count": 30,
   "id": "8c0ebee0",
   "metadata": {
    "execution": {
     "iopub.execute_input": "2022-10-05T11:46:48.292107Z",
     "iopub.status.busy": "2022-10-05T11:46:48.291457Z",
     "iopub.status.idle": "2022-10-05T11:46:48.298019Z",
     "shell.execute_reply": "2022-10-05T11:46:48.297262Z"
    },
    "papermill": {
     "duration": 0.026722,
     "end_time": "2022-10-05T11:46:48.300017",
     "exception": false,
     "start_time": "2022-10-05T11:46:48.273295",
     "status": "completed"
    },
    "tags": []
   },
   "outputs": [
    {
     "data": {
      "text/plain": [
       "106.6539587278101"
      ]
     },
     "execution_count": 30,
     "metadata": {},
     "output_type": "execute_result"
    }
   ],
   "source": [
    "#rmse\n",
    "rms=np.sqrt(np.mean(np.power((np.array(y_valid)-np.array(preds)),2)))\n",
    "rms"
   ]
  },
  {
   "cell_type": "code",
   "execution_count": 31,
   "id": "acd80e19",
   "metadata": {
    "execution": {
     "iopub.execute_input": "2022-10-05T11:46:48.370389Z",
     "iopub.status.busy": "2022-10-05T11:46:48.369721Z",
     "iopub.status.idle": "2022-10-05T11:46:48.374530Z",
     "shell.execute_reply": "2022-10-05T11:46:48.373779Z"
    },
    "papermill": {
     "duration": 0.025308,
     "end_time": "2022-10-05T11:46:48.376591",
     "exception": false,
     "start_time": "2022-10-05T11:46:48.351283",
     "status": "completed"
    },
    "tags": []
   },
   "outputs": [],
   "source": [
    "dframe2 = pd.DataFrame({'Actual':y_valid, 'Predicted':preds})"
   ]
  },
  {
   "cell_type": "code",
   "execution_count": 32,
   "id": "ff91822a",
   "metadata": {
    "execution": {
     "iopub.execute_input": "2022-10-05T11:46:48.412443Z",
     "iopub.status.busy": "2022-10-05T11:46:48.412032Z",
     "iopub.status.idle": "2022-10-05T11:46:48.422115Z",
     "shell.execute_reply": "2022-10-05T11:46:48.421280Z"
    },
    "papermill": {
     "duration": 0.030383,
     "end_time": "2022-10-05T11:46:48.424090",
     "exception": false,
     "start_time": "2022-10-05T11:46:48.393707",
     "status": "completed"
    },
    "tags": []
   },
   "outputs": [
    {
     "data": {
      "text/html": [
       "<div>\n",
       "<style scoped>\n",
       "    .dataframe tbody tr th:only-of-type {\n",
       "        vertical-align: middle;\n",
       "    }\n",
       "\n",
       "    .dataframe tbody tr th {\n",
       "        vertical-align: top;\n",
       "    }\n",
       "\n",
       "    .dataframe thead th {\n",
       "        text-align: right;\n",
       "    }\n",
       "</style>\n",
       "<table border=\"1\" class=\"dataframe\">\n",
       "  <thead>\n",
       "    <tr style=\"text-align: right;\">\n",
       "      <th></th>\n",
       "      <th>Actual</th>\n",
       "      <th>Predicted</th>\n",
       "    </tr>\n",
       "  </thead>\n",
       "  <tbody>\n",
       "    <tr>\n",
       "      <th>900</th>\n",
       "      <td>154.85</td>\n",
       "      <td>158.075</td>\n",
       "    </tr>\n",
       "    <tr>\n",
       "      <th>901</th>\n",
       "      <td>154.95</td>\n",
       "      <td>158.1125</td>\n",
       "    </tr>\n",
       "    <tr>\n",
       "      <th>902</th>\n",
       "      <td>153.0</td>\n",
       "      <td>155.8125</td>\n",
       "    </tr>\n",
       "    <tr>\n",
       "      <th>903</th>\n",
       "      <td>155.55</td>\n",
       "      <td>155.15</td>\n",
       "    </tr>\n",
       "    <tr>\n",
       "      <th>904</th>\n",
       "      <td>154.6</td>\n",
       "      <td>155.15</td>\n",
       "    </tr>\n",
       "    <tr>\n",
       "      <th>905</th>\n",
       "      <td>154.4</td>\n",
       "      <td>157.4</td>\n",
       "    </tr>\n",
       "    <tr>\n",
       "      <th>906</th>\n",
       "      <td>152.1</td>\n",
       "      <td>158.3875</td>\n",
       "    </tr>\n",
       "    <tr>\n",
       "      <th>907</th>\n",
       "      <td>156.45</td>\n",
       "      <td>164.4125</td>\n",
       "    </tr>\n",
       "    <tr>\n",
       "      <th>908</th>\n",
       "      <td>158.45</td>\n",
       "      <td>159.025</td>\n",
       "    </tr>\n",
       "    <tr>\n",
       "      <th>909</th>\n",
       "      <td>159.1</td>\n",
       "      <td>159.025</td>\n",
       "    </tr>\n",
       "  </tbody>\n",
       "</table>\n",
       "</div>"
      ],
      "text/plain": [
       "     Actual Predicted\n",
       "900  154.85   158.075\n",
       "901  154.95  158.1125\n",
       "902   153.0  155.8125\n",
       "903  155.55    155.15\n",
       "904   154.6    155.15\n",
       "905   154.4     157.4\n",
       "906   152.1  158.3875\n",
       "907  156.45  164.4125\n",
       "908  158.45   159.025\n",
       "909   159.1   159.025"
      ]
     },
     "execution_count": 32,
     "metadata": {},
     "output_type": "execute_result"
    }
   ],
   "source": [
    "dframe2.head(10)"
   ]
  },
  {
   "cell_type": "code",
   "execution_count": 33,
   "id": "2a3940c0",
   "metadata": {
    "execution": {
     "iopub.execute_input": "2022-10-05T11:46:48.460838Z",
     "iopub.status.busy": "2022-10-05T11:46:48.460404Z",
     "iopub.status.idle": "2022-10-05T11:46:48.470926Z",
     "shell.execute_reply": "2022-10-05T11:46:48.469810Z"
    },
    "papermill": {
     "duration": 0.031612,
     "end_time": "2022-10-05T11:46:48.473116",
     "exception": false,
     "start_time": "2022-10-05T11:46:48.441504",
     "status": "completed"
    },
    "tags": []
   },
   "outputs": [
    {
     "data": {
      "text/html": [
       "<div>\n",
       "<style scoped>\n",
       "    .dataframe tbody tr th:only-of-type {\n",
       "        vertical-align: middle;\n",
       "    }\n",
       "\n",
       "    .dataframe tbody tr th {\n",
       "        vertical-align: top;\n",
       "    }\n",
       "\n",
       "    .dataframe thead th {\n",
       "        text-align: right;\n",
       "    }\n",
       "</style>\n",
       "<table border=\"1\" class=\"dataframe\">\n",
       "  <thead>\n",
       "    <tr style=\"text-align: right;\">\n",
       "      <th></th>\n",
       "      <th>Actual</th>\n",
       "      <th>Predicted</th>\n",
       "    </tr>\n",
       "  </thead>\n",
       "  <tbody>\n",
       "    <tr>\n",
       "      <th>1225</th>\n",
       "      <td>233.3</td>\n",
       "      <td>143.25</td>\n",
       "    </tr>\n",
       "    <tr>\n",
       "      <th>1226</th>\n",
       "      <td>236.1</td>\n",
       "      <td>144.8375</td>\n",
       "    </tr>\n",
       "    <tr>\n",
       "      <th>1227</th>\n",
       "      <td>234.25</td>\n",
       "      <td>138.525</td>\n",
       "    </tr>\n",
       "    <tr>\n",
       "      <th>1228</th>\n",
       "      <td>233.25</td>\n",
       "      <td>138.2625</td>\n",
       "    </tr>\n",
       "    <tr>\n",
       "      <th>1229</th>\n",
       "      <td>233.75</td>\n",
       "      <td>143.6875</td>\n",
       "    </tr>\n",
       "    <tr>\n",
       "      <th>1230</th>\n",
       "      <td>230.9</td>\n",
       "      <td>132.125</td>\n",
       "    </tr>\n",
       "    <tr>\n",
       "      <th>1231</th>\n",
       "      <td>227.6</td>\n",
       "      <td>142.625</td>\n",
       "    </tr>\n",
       "    <tr>\n",
       "      <th>1232</th>\n",
       "      <td>218.2</td>\n",
       "      <td>137.4625</td>\n",
       "    </tr>\n",
       "    <tr>\n",
       "      <th>1233</th>\n",
       "      <td>209.2</td>\n",
       "      <td>139.85</td>\n",
       "    </tr>\n",
       "    <tr>\n",
       "      <th>1234</th>\n",
       "      <td>215.15</td>\n",
       "      <td>139.325</td>\n",
       "    </tr>\n",
       "  </tbody>\n",
       "</table>\n",
       "</div>"
      ],
      "text/plain": [
       "      Actual Predicted\n",
       "1225   233.3    143.25\n",
       "1226   236.1  144.8375\n",
       "1227  234.25   138.525\n",
       "1228  233.25  138.2625\n",
       "1229  233.75  143.6875\n",
       "1230   230.9   132.125\n",
       "1231   227.6   142.625\n",
       "1232   218.2  137.4625\n",
       "1233   209.2    139.85\n",
       "1234  215.15   139.325"
      ]
     },
     "execution_count": 33,
     "metadata": {},
     "output_type": "execute_result"
    }
   ],
   "source": [
    "dframe2.tail(10)"
   ]
  },
  {
   "cell_type": "code",
   "execution_count": 34,
   "id": "3075350c",
   "metadata": {
    "execution": {
     "iopub.execute_input": "2022-10-05T11:46:48.510667Z",
     "iopub.status.busy": "2022-10-05T11:46:48.509898Z",
     "iopub.status.idle": "2022-10-05T11:46:48.737232Z",
     "shell.execute_reply": "2022-10-05T11:46:48.736107Z"
    },
    "papermill": {
     "duration": 0.248594,
     "end_time": "2022-10-05T11:46:48.739661",
     "exception": false,
     "start_time": "2022-10-05T11:46:48.491067",
     "status": "completed"
    },
    "tags": []
   },
   "outputs": [
    {
     "data": {
      "text/plain": [
       "[<matplotlib.lines.Line2D at 0x7f287251d0d0>]"
      ]
     },
     "execution_count": 34,
     "metadata": {},
     "output_type": "execute_result"
    },
    {
     "data": {
      "image/png": "[encoded data removed]",
      "text/plain": [
       "<Figure size 1152x576 with 1 Axes>"
      ]
     },
     "metadata": {
      "needs_background": "light"
     },
     "output_type": "display_data"
    }
   ],
   "source": [
    "#plot\n",
    "valid['Predictions'] = 0\n",
    "valid['Predictions'] = preds\n",
    "\n",
    "plt.figure(figsize=(16,8))\n",
    "plt.plot(valid[['Close', 'Predictions']])\n",
    "plt.plot(train['Close'])\n",
    "\n"
   ]
  },
  {
   "cell_type": "code",
   "execution_count": 35,
   "id": "7fee2b00",
   "metadata": {
    "execution": {
     "iopub.execute_input": "2022-10-05T11:46:48.853343Z",
     "iopub.status.busy": "2022-10-05T11:46:48.852942Z",
     "iopub.status.idle": "2022-10-05T11:46:54.380458Z",
     "shell.execute_reply": "2022-10-05T11:46:54.379343Z"
    },
    "papermill": {
     "duration": 5.550446,
     "end_time": "2022-10-05T11:46:54.383226",
     "exception": false,
     "start_time": "2022-10-05T11:46:48.832780",
     "status": "completed"
    },
    "tags": []
   },
   "outputs": [],
   "source": [
    "#importing required libraries\n",
    "from sklearn.preprocessing import MinMaxScaler\n",
    "from keras.models import Sequential\n",
    "from keras.layers import Dense, Dropout, LSTM\n",
    "\n",
    "#creating dataframe\n",
    "data = df.sort_index(ascending=True, axis=0)\n",
    "new_data = pd.DataFrame(index=range(0,len(df)),columns=['Date', 'Close'])\n",
    "for i in range(0,len(data)):\n",
    "    new_data['Date'][i] = data['Date'][i]\n",
    "    new_data['Close'][i] = data['Close'][i]\n",
    "\n",
    "#setting index\n",
    "new_data.index = new_data.Date\n",
    "new_data.drop('Date', axis=1, inplace=True)\n",
    "\n",
    "#creating train and test sets\n",
    "dataset = new_data.values"
   ]
  },
  {
   "cell_type": "code",
   "execution_count": 36,
   "id": "de5c07f0",
   "metadata": {
    "execution": {
     "iopub.execute_input": "2022-10-05T11:46:54.422362Z",
     "iopub.status.busy": "2022-10-05T11:46:54.421617Z",
     "iopub.status.idle": "2022-10-05T11:47:19.046990Z",
     "shell.execute_reply": "2022-10-05T11:47:19.045893Z"
    },
    "papermill": {
     "duration": 24.648027,
     "end_time": "2022-10-05T11:47:19.050022",
     "exception": false,
     "start_time": "2022-10-05T11:46:54.401995",
     "status": "completed"
    },
    "tags": []
   },
   "outputs": [
    {
     "name": "stderr",
     "output_type": "stream",
     "text": [
      "2022-10-05 11:46:54.465087: I tensorflow/core/common_runtime/process_util.cc:146] Creating new thread pool with default inter op setting: 2. Tune using inter_op_parallelism_threads for best performance.\n",
      "2022-10-05 11:46:55.276437: I tensorflow/compiler/mlir/mlir_graph_optimization_pass.cc:185] None of the MLIR Optimization Passes are enabled (registered 2)\n"
     ]
    },
    {
     "name": "stdout",
     "output_type": "stream",
     "text": [
      "900/900 - 19s - loss: 0.0011\n"
     ]
    }
   ],
   "source": [
    "train = dataset[0:960,:]\n",
    "valid = dataset[960:,:]\n",
    "\n",
    "#converting dataset into x_train and y_train\n",
    "scaler = MinMaxScaler(feature_range=(0, 1))\n",
    "scaled_data = scaler.fit_transform(dataset)\n",
    "\n",
    "x_train, y_train = [], []\n",
    "for i in range(60,len(train)):\n",
    "    x_train.append(scaled_data[i-60:i,0])\n",
    "    y_train.append(scaled_data[i,0])\n",
    "x_train, y_train = np.array(x_train), np.array(y_train)\n",
    "\n",
    "x_train = np.reshape(x_train, (x_train.shape[0],x_train.shape[1],1))\n",
    "\n",
    "# create and fit the LSTM network\n",
    "model = Sequential()\n",
    "model.add(LSTM(units=50, return_sequences=True, input_shape=(x_train.shape[1],1)))\n",
    "model.add(LSTM(units=50))\n",
    "model.add(Dense(1))\n",
    "\n",
    "model.compile(loss='mean_squared_error', optimizer='adam')\n",
    "model.fit(x_train, y_train, epochs=1, batch_size=1, verbose=2)\n",
    "\n",
    "#predicting testing values, using past 60 from the train data\n",
    "inputs = new_data[len(new_data) - len(valid) - 60:].values\n",
    "inputs = inputs.reshape(-1,1)\n",
    "inputs  = scaler.transform(inputs)\n",
    "\n",
    "X_test = []\n",
    "for i in range(60,inputs.shape[0]):\n",
    "    X_test.append(inputs[i-60:i,0])\n",
    "X_test = np.array(X_test)\n",
    "\n",
    "X_test = np.reshape(X_test, (X_test.shape[0],X_test.shape[1],1))\n",
    "closing_price = model.predict(X_test)\n",
    "closing_price = scaler.inverse_transform(closing_price)"
   ]
  },
  {
   "cell_type": "code",
   "execution_count": 37,
   "id": "527159fb",
   "metadata": {
    "execution": {
     "iopub.execute_input": "2022-10-05T11:47:19.090755Z",
     "iopub.status.busy": "2022-10-05T11:47:19.089940Z",
     "iopub.status.idle": "2022-10-05T11:47:19.097518Z",
     "shell.execute_reply": "2022-10-05T11:47:19.096477Z"
    },
    "papermill": {
     "duration": 0.030433,
     "end_time": "2022-10-05T11:47:19.099671",
     "exception": false,
     "start_time": "2022-10-05T11:47:19.069238",
     "status": "completed"
    },
    "tags": []
   },
   "outputs": [
    {
     "data": {
      "text/plain": [
       "8.620842332861045"
      ]
     },
     "execution_count": 37,
     "metadata": {},
     "output_type": "execute_result"
    }
   ],
   "source": [
    "rms=np.sqrt(np.mean(np.power((valid-closing_price),2)))\n",
    "rms"
   ]
  },
  {
   "cell_type": "code",
   "execution_count": 38,
   "id": "8f898894",
   "metadata": {
    "execution": {
     "iopub.execute_input": "2022-10-05T11:47:19.178135Z",
     "iopub.status.busy": "2022-10-05T11:47:19.177710Z",
     "iopub.status.idle": "2022-10-05T11:47:19.450456Z",
     "shell.execute_reply": "2022-10-05T11:47:19.449273Z"
    },
    "papermill": {
     "duration": 0.295191,
     "end_time": "2022-10-05T11:47:19.452799",
     "exception": false,
     "start_time": "2022-10-05T11:47:19.157608",
     "status": "completed"
    },
    "tags": []
   },
   "outputs": [
    {
     "data": {
      "text/plain": [
       "[<matplotlib.lines.Line2D at 0x7f283ec97650>,\n",
       " <matplotlib.lines.Line2D at 0x7f283ec97950>]"
      ]
     },
     "execution_count": 38,
     "metadata": {},
     "output_type": "execute_result"
    },
    {
     "data": {
      "image/png": "[encoded data removed]",
      "text/plain": [
       "<Figure size 1152x576 with 1 Axes>"
      ]
     },
     "metadata": {
      "needs_background": "light"
     },
     "output_type": "display_data"
    }
   ],
   "source": [
    "#for plotting\n",
    "train = new_data[:960]\n",
    "valid = new_data[960:]\n",
    "valid['Predictions'] = closing_price\n",
    "\n",
    "plt.figure(figsize=(16,8))\n",
    "plt.plot(train['Close'])\n",
    "plt.plot(valid[['Close','Predictions']])\n"
   ]
  },
  {
   "cell_type": "code",
   "execution_count": 39,
   "id": "adc7a9a8",
   "metadata": {
    "execution": {
     "iopub.execute_input": "2022-10-05T11:47:19.494359Z",
     "iopub.status.busy": "2022-10-05T11:47:19.493930Z",
     "iopub.status.idle": "2022-10-05T11:47:19.500276Z",
     "shell.execute_reply": "2022-10-05T11:47:19.499176Z"
    },
    "papermill": {
     "duration": 0.029649,
     "end_time": "2022-10-05T11:47:19.502463",
     "exception": false,
     "start_time": "2022-10-05T11:47:19.472814",
     "status": "completed"
    },
    "tags": []
   },
   "outputs": [],
   "source": [
    "dframe3 = pd.DataFrame({'Actual':valid['Close'], 'Predicted':valid['Predictions']})"
   ]
  },
  {
   "cell_type": "code",
   "execution_count": 40,
   "id": "fce3a8c4",
   "metadata": {
    "execution": {
     "iopub.execute_input": "2022-10-05T11:47:19.544312Z",
     "iopub.status.busy": "2022-10-05T11:47:19.543482Z",
     "iopub.status.idle": "2022-10-05T11:47:19.559570Z",
     "shell.execute_reply": "2022-10-05T11:47:19.558499Z"
    },
    "papermill": {
     "duration": 0.039401,
     "end_time": "2022-10-05T11:47:19.561881",
     "exception": false,
     "start_time": "2022-10-05T11:47:19.522480",
     "status": "completed"
    },
    "tags": []
   },
   "outputs": [
    {
     "data": {
      "text/html": [
       "<div>\n",
       "<style scoped>\n",
       "    .dataframe tbody tr th:only-of-type {\n",
       "        vertical-align: middle;\n",
       "    }\n",
       "\n",
       "    .dataframe tbody tr th {\n",
       "        vertical-align: top;\n",
       "    }\n",
       "\n",
       "    .dataframe thead th {\n",
       "        text-align: right;\n",
       "    }\n",
       "</style>\n",
       "<table border=\"1\" class=\"dataframe\">\n",
       "  <thead>\n",
       "    <tr style=\"text-align: right;\">\n",
       "      <th></th>\n",
       "      <th>Actual</th>\n",
       "      <th>Predicted</th>\n",
       "    </tr>\n",
       "    <tr>\n",
       "      <th>Date</th>\n",
       "      <th></th>\n",
       "      <th></th>\n",
       "    </tr>\n",
       "  </thead>\n",
       "  <tbody>\n",
       "    <tr>\n",
       "      <th>2017-08-30</th>\n",
       "      <td>197.05</td>\n",
       "      <td>195.112381</td>\n",
       "    </tr>\n",
       "    <tr>\n",
       "      <th>2017-08-31</th>\n",
       "      <td>198.0</td>\n",
       "      <td>195.412964</td>\n",
       "    </tr>\n",
       "    <tr>\n",
       "      <th>2017-09-01</th>\n",
       "      <td>197.6</td>\n",
       "      <td>195.964401</td>\n",
       "    </tr>\n",
       "    <tr>\n",
       "      <th>2017-09-04</th>\n",
       "      <td>193.3</td>\n",
       "      <td>196.501831</td>\n",
       "    </tr>\n",
       "    <tr>\n",
       "      <th>2017-09-05</th>\n",
       "      <td>196.7</td>\n",
       "      <td>196.333527</td>\n",
       "    </tr>\n",
       "    <tr>\n",
       "      <th>2017-09-06</th>\n",
       "      <td>205.95</td>\n",
       "      <td>196.338394</td>\n",
       "    </tr>\n",
       "    <tr>\n",
       "      <th>2017-09-07</th>\n",
       "      <td>205.75</td>\n",
       "      <td>197.743500</td>\n",
       "    </tr>\n",
       "    <tr>\n",
       "      <th>2017-09-08</th>\n",
       "      <td>206.9</td>\n",
       "      <td>199.596756</td>\n",
       "    </tr>\n",
       "    <tr>\n",
       "      <th>2017-09-11</th>\n",
       "      <td>209.25</td>\n",
       "      <td>201.617645</td>\n",
       "    </tr>\n",
       "    <tr>\n",
       "      <th>2017-09-12</th>\n",
       "      <td>212.05</td>\n",
       "      <td>203.794113</td>\n",
       "    </tr>\n",
       "    <tr>\n",
       "      <th>2017-09-13</th>\n",
       "      <td>207.3</td>\n",
       "      <td>206.152878</td>\n",
       "    </tr>\n",
       "    <tr>\n",
       "      <th>2017-09-14</th>\n",
       "      <td>212.05</td>\n",
       "      <td>207.550552</td>\n",
       "    </tr>\n",
       "    <tr>\n",
       "      <th>2017-09-15</th>\n",
       "      <td>210.55</td>\n",
       "      <td>208.999329</td>\n",
       "    </tr>\n",
       "    <tr>\n",
       "      <th>2017-09-18</th>\n",
       "      <td>213.3</td>\n",
       "      <td>209.995407</td>\n",
       "    </tr>\n",
       "    <tr>\n",
       "      <th>2017-09-19</th>\n",
       "      <td>216.2</td>\n",
       "      <td>211.037384</td>\n",
       "    </tr>\n",
       "    <tr>\n",
       "      <th>2017-09-20</th>\n",
       "      <td>213.7</td>\n",
       "      <td>212.362549</td>\n",
       "    </tr>\n",
       "    <tr>\n",
       "      <th>2017-09-21</th>\n",
       "      <td>212.2</td>\n",
       "      <td>213.243561</td>\n",
       "    </tr>\n",
       "    <tr>\n",
       "      <th>2017-09-22</th>\n",
       "      <td>201.15</td>\n",
       "      <td>213.563812</td>\n",
       "    </tr>\n",
       "    <tr>\n",
       "      <th>2017-09-25</th>\n",
       "      <td>196.65</td>\n",
       "      <td>211.889221</td>\n",
       "    </tr>\n",
       "    <tr>\n",
       "      <th>2017-09-26</th>\n",
       "      <td>204.65</td>\n",
       "      <td>208.839066</td>\n",
       "    </tr>\n",
       "    <tr>\n",
       "      <th>2017-09-27</th>\n",
       "      <td>198.6</td>\n",
       "      <td>206.707260</td>\n",
       "    </tr>\n",
       "    <tr>\n",
       "      <th>2017-09-28</th>\n",
       "      <td>203.15</td>\n",
       "      <td>204.364395</td>\n",
       "    </tr>\n",
       "    <tr>\n",
       "      <th>2017-09-29</th>\n",
       "      <td>205.8</td>\n",
       "      <td>202.968307</td>\n",
       "    </tr>\n",
       "    <tr>\n",
       "      <th>2017-10-03</th>\n",
       "      <td>206.45</td>\n",
       "      <td>202.611465</td>\n",
       "    </tr>\n",
       "    <tr>\n",
       "      <th>2017-10-04</th>\n",
       "      <td>204.95</td>\n",
       "      <td>202.936508</td>\n",
       "    </tr>\n",
       "    <tr>\n",
       "      <th>2017-10-05</th>\n",
       "      <td>209.45</td>\n",
       "      <td>203.366211</td>\n",
       "    </tr>\n",
       "    <tr>\n",
       "      <th>2017-10-06</th>\n",
       "      <td>209.6</td>\n",
       "      <td>204.485153</td>\n",
       "    </tr>\n",
       "    <tr>\n",
       "      <th>2017-10-09</th>\n",
       "      <td>208.3</td>\n",
       "      <td>205.805420</td>\n",
       "    </tr>\n",
       "    <tr>\n",
       "      <th>2017-10-10</th>\n",
       "      <td>208.45</td>\n",
       "      <td>206.867157</td>\n",
       "    </tr>\n",
       "    <tr>\n",
       "      <th>2017-10-11</th>\n",
       "      <td>209.4</td>\n",
       "      <td>207.686249</td>\n",
       "    </tr>\n",
       "    <tr>\n",
       "      <th>2017-10-12</th>\n",
       "      <td>212.0</td>\n",
       "      <td>208.404648</td>\n",
       "    </tr>\n",
       "    <tr>\n",
       "      <th>2017-10-13</th>\n",
       "      <td>210.25</td>\n",
       "      <td>209.348755</td>\n",
       "    </tr>\n",
       "    <tr>\n",
       "      <th>2017-10-16</th>\n",
       "      <td>209.6</td>\n",
       "      <td>209.992874</td>\n",
       "    </tr>\n",
       "    <tr>\n",
       "      <th>2017-10-17</th>\n",
       "      <td>210.3</td>\n",
       "      <td>210.308624</td>\n",
       "    </tr>\n",
       "    <tr>\n",
       "      <th>2017-10-18</th>\n",
       "      <td>206.8</td>\n",
       "      <td>210.514038</td>\n",
       "    </tr>\n",
       "    <tr>\n",
       "      <th>2017-10-19</th>\n",
       "      <td>204.6</td>\n",
       "      <td>210.095764</td>\n",
       "    </tr>\n",
       "    <tr>\n",
       "      <th>2017-10-23</th>\n",
       "      <td>203.1</td>\n",
       "      <td>209.109070</td>\n",
       "    </tr>\n",
       "    <tr>\n",
       "      <th>2017-10-24</th>\n",
       "      <td>209.65</td>\n",
       "      <td>207.751190</td>\n",
       "    </tr>\n",
       "    <tr>\n",
       "      <th>2017-10-25</th>\n",
       "      <td>205.3</td>\n",
       "      <td>207.366974</td>\n",
       "    </tr>\n",
       "    <tr>\n",
       "      <th>2017-10-26</th>\n",
       "      <td>209.8</td>\n",
       "      <td>206.833847</td>\n",
       "    </tr>\n",
       "    <tr>\n",
       "      <th>2017-10-27</th>\n",
       "      <td>220.5</td>\n",
       "      <td>207.013916</td>\n",
       "    </tr>\n",
       "    <tr>\n",
       "      <th>2017-10-30</th>\n",
       "      <td>226.8</td>\n",
       "      <td>209.104462</td>\n",
       "    </tr>\n",
       "    <tr>\n",
       "      <th>2017-10-31</th>\n",
       "      <td>226.95</td>\n",
       "      <td>212.784103</td>\n",
       "    </tr>\n",
       "    <tr>\n",
       "      <th>2017-11-01</th>\n",
       "      <td>227.8</td>\n",
       "      <td>216.786407</td>\n",
       "    </tr>\n",
       "    <tr>\n",
       "      <th>2017-11-02</th>\n",
       "      <td>226.35</td>\n",
       "      <td>220.550552</td>\n",
       "    </tr>\n",
       "    <tr>\n",
       "      <th>2017-11-03</th>\n",
       "      <td>225.3</td>\n",
       "      <td>223.432465</td>\n",
       "    </tr>\n",
       "    <tr>\n",
       "      <th>2017-11-06</th>\n",
       "      <td>234.7</td>\n",
       "      <td>225.289108</td>\n",
       "    </tr>\n",
       "    <tr>\n",
       "      <th>2017-11-07</th>\n",
       "      <td>225.0</td>\n",
       "      <td>227.805054</td>\n",
       "    </tr>\n",
       "    <tr>\n",
       "      <th>2017-11-08</th>\n",
       "      <td>224.5</td>\n",
       "      <td>228.673615</td>\n",
       "    </tr>\n",
       "    <tr>\n",
       "      <th>2017-11-09</th>\n",
       "      <td>240.45</td>\n",
       "      <td>228.578613</td>\n",
       "    </tr>\n",
       "  </tbody>\n",
       "</table>\n",
       "</div>"
      ],
      "text/plain": [
       "            Actual   Predicted\n",
       "Date                          \n",
       "2017-08-30  197.05  195.112381\n",
       "2017-08-31   198.0  195.412964\n",
       "2017-09-01   197.6  195.964401\n",
       "2017-09-04   193.3  196.501831\n",
       "2017-09-05   196.7  196.333527\n",
       "2017-09-06  205.95  196.338394\n",
       "2017-09-07  205.75  197.743500\n",
       "2017-09-08   206.9  199.596756\n",
       "2017-09-11  209.25  201.617645\n",
       "2017-09-12  212.05  203.794113\n",
       "2017-09-13   207.3  206.152878\n",
       "2017-09-14  212.05  207.550552\n",
       "2017-09-15  210.55  208.999329\n",
       "2017-09-18   213.3  209.995407\n",
       "2017-09-19   216.2  211.037384\n",
       "2017-09-20   213.7  212.362549\n",
       "2017-09-21   212.2  213.243561\n",
       "2017-09-22  201.15  213.563812\n",
       "2017-09-25  196.65  211.889221\n",
       "2017-09-26  204.65  208.839066\n",
       "2017-09-27   198.6  206.707260\n",
       "2017-09-28  203.15  204.364395\n",
       "2017-09-29   205.8  202.968307\n",
       "2017-10-03  206.45  202.611465\n",
       "2017-10-04  204.95  202.936508\n",
       "2017-10-05  209.45  203.366211\n",
       "2017-10-06   209.6  204.485153\n",
       "2017-10-09   208.3  205.805420\n",
       "2017-10-10  208.45  206.867157\n",
       "2017-10-11   209.4  207.686249\n",
       "2017-10-12   212.0  208.404648\n",
       "2017-10-13  210.25  209.348755\n",
       "2017-10-16   209.6  209.992874\n",
       "2017-10-17   210.3  210.308624\n",
       "2017-10-18   206.8  210.514038\n",
       "2017-10-19   204.6  210.095764\n",
       "2017-10-23   203.1  209.109070\n",
       "2017-10-24  209.65  207.751190\n",
       "2017-10-25   205.3  207.366974\n",
       "2017-10-26   209.8  206.833847\n",
       "2017-10-27   220.5  207.013916\n",
       "2017-10-30   226.8  209.104462\n",
       "2017-10-31  226.95  212.784103\n",
       "2017-11-01   227.8  216.786407\n",
       "2017-11-02  226.35  220.550552\n",
       "2017-11-03   225.3  223.432465\n",
       "2017-11-06   234.7  225.289108\n",
       "2017-11-07   225.0  227.805054\n",
       "2017-11-08   224.5  228.673615\n",
       "2017-11-09  240.45  228.578613"
      ]
     },
     "execution_count": 40,
     "metadata": {},
     "output_type": "execute_result"
    }
   ],
   "source": [
    "dframe3.head(50)"
   ]
  },
  {
   "cell_type": "code",
   "execution_count": 41,
   "id": "7560bf74",
   "metadata": {
    "execution": {
     "iopub.execute_input": "2022-10-05T11:47:19.606535Z",
     "iopub.status.busy": "2022-10-05T11:47:19.605500Z",
     "iopub.status.idle": "2022-10-05T11:47:19.620119Z",
     "shell.execute_reply": "2022-10-05T11:47:19.619271Z"
    },
    "papermill": {
     "duration": 0.03904,
     "end_time": "2022-10-05T11:47:19.622238",
     "exception": false,
     "start_time": "2022-10-05T11:47:19.583198",
     "status": "completed"
    },
    "tags": []
   },
   "outputs": [
    {
     "data": {
      "text/html": [
       "<div>\n",
       "<style scoped>\n",
       "    .dataframe tbody tr th:only-of-type {\n",
       "        vertical-align: middle;\n",
       "    }\n",
       "\n",
       "    .dataframe tbody tr th {\n",
       "        vertical-align: top;\n",
       "    }\n",
       "\n",
       "    .dataframe thead th {\n",
       "        text-align: right;\n",
       "    }\n",
       "</style>\n",
       "<table border=\"1\" class=\"dataframe\">\n",
       "  <thead>\n",
       "    <tr style=\"text-align: right;\">\n",
       "      <th></th>\n",
       "      <th>Actual</th>\n",
       "      <th>Predicted</th>\n",
       "    </tr>\n",
       "    <tr>\n",
       "      <th>Date</th>\n",
       "      <th></th>\n",
       "      <th></th>\n",
       "    </tr>\n",
       "  </thead>\n",
       "  <tbody>\n",
       "    <tr>\n",
       "      <th>2018-07-24</th>\n",
       "      <td>246.3</td>\n",
       "      <td>239.798248</td>\n",
       "    </tr>\n",
       "    <tr>\n",
       "      <th>2018-07-25</th>\n",
       "      <td>236.9</td>\n",
       "      <td>239.549667</td>\n",
       "    </tr>\n",
       "    <tr>\n",
       "      <th>2018-07-26</th>\n",
       "      <td>239.1</td>\n",
       "      <td>238.828690</td>\n",
       "    </tr>\n",
       "    <tr>\n",
       "      <th>2018-07-27</th>\n",
       "      <td>242.25</td>\n",
       "      <td>238.480331</td>\n",
       "    </tr>\n",
       "    <tr>\n",
       "      <th>2018-07-30</th>\n",
       "      <td>242.2</td>\n",
       "      <td>238.868561</td>\n",
       "    </tr>\n",
       "    <tr>\n",
       "      <th>2018-07-31</th>\n",
       "      <td>246.9</td>\n",
       "      <td>239.558151</td>\n",
       "    </tr>\n",
       "    <tr>\n",
       "      <th>2018-08-01</th>\n",
       "      <td>235.65</td>\n",
       "      <td>241.080612</td>\n",
       "    </tr>\n",
       "    <tr>\n",
       "      <th>2018-08-02</th>\n",
       "      <td>235.45</td>\n",
       "      <td>240.973495</td>\n",
       "    </tr>\n",
       "    <tr>\n",
       "      <th>2018-08-03</th>\n",
       "      <td>234.65</td>\n",
       "      <td>240.160324</td>\n",
       "    </tr>\n",
       "    <tr>\n",
       "      <th>2018-08-06</th>\n",
       "      <td>239.5</td>\n",
       "      <td>238.962173</td>\n",
       "    </tr>\n",
       "    <tr>\n",
       "      <th>2018-08-07</th>\n",
       "      <td>237.6</td>\n",
       "      <td>238.508316</td>\n",
       "    </tr>\n",
       "    <tr>\n",
       "      <th>2018-08-08</th>\n",
       "      <td>236.35</td>\n",
       "      <td>238.137543</td>\n",
       "    </tr>\n",
       "    <tr>\n",
       "      <th>2018-08-09</th>\n",
       "      <td>237.3</td>\n",
       "      <td>237.693085</td>\n",
       "    </tr>\n",
       "    <tr>\n",
       "      <th>2018-08-10</th>\n",
       "      <td>233.55</td>\n",
       "      <td>237.440933</td>\n",
       "    </tr>\n",
       "    <tr>\n",
       "      <th>2018-08-13</th>\n",
       "      <td>234.55</td>\n",
       "      <td>236.716736</td>\n",
       "    </tr>\n",
       "    <tr>\n",
       "      <th>2018-08-14</th>\n",
       "      <td>237.55</td>\n",
       "      <td>236.056198</td>\n",
       "    </tr>\n",
       "    <tr>\n",
       "      <th>2018-08-16</th>\n",
       "      <td>239.35</td>\n",
       "      <td>235.980957</td>\n",
       "    </tr>\n",
       "    <tr>\n",
       "      <th>2018-08-17</th>\n",
       "      <td>243.0</td>\n",
       "      <td>236.469757</td>\n",
       "    </tr>\n",
       "    <tr>\n",
       "      <th>2018-08-20</th>\n",
       "      <td>245.15</td>\n",
       "      <td>237.747543</td>\n",
       "    </tr>\n",
       "    <tr>\n",
       "      <th>2018-08-21</th>\n",
       "      <td>240.55</td>\n",
       "      <td>239.561020</td>\n",
       "    </tr>\n",
       "    <tr>\n",
       "      <th>2018-08-23</th>\n",
       "      <td>235.45</td>\n",
       "      <td>240.640244</td>\n",
       "    </tr>\n",
       "    <tr>\n",
       "      <th>2018-08-24</th>\n",
       "      <td>231.0</td>\n",
       "      <td>240.427612</td>\n",
       "    </tr>\n",
       "    <tr>\n",
       "      <th>2018-08-27</th>\n",
       "      <td>237.05</td>\n",
       "      <td>238.921265</td>\n",
       "    </tr>\n",
       "    <tr>\n",
       "      <th>2018-08-28</th>\n",
       "      <td>233.35</td>\n",
       "      <td>237.960953</td>\n",
       "    </tr>\n",
       "    <tr>\n",
       "      <th>2018-08-29</th>\n",
       "      <td>234.55</td>\n",
       "      <td>236.740967</td>\n",
       "    </tr>\n",
       "    <tr>\n",
       "      <th>2018-08-30</th>\n",
       "      <td>236.0</td>\n",
       "      <td>235.796173</td>\n",
       "    </tr>\n",
       "    <tr>\n",
       "      <th>2018-08-31</th>\n",
       "      <td>234.3</td>\n",
       "      <td>235.340363</td>\n",
       "    </tr>\n",
       "    <tr>\n",
       "      <th>2018-09-03</th>\n",
       "      <td>236.7</td>\n",
       "      <td>234.919403</td>\n",
       "    </tr>\n",
       "    <tr>\n",
       "      <th>2018-09-04</th>\n",
       "      <td>223.7</td>\n",
       "      <td>234.982666</td>\n",
       "    </tr>\n",
       "    <tr>\n",
       "      <th>2018-09-05</th>\n",
       "      <td>222.4</td>\n",
       "      <td>233.212891</td>\n",
       "    </tr>\n",
       "    <tr>\n",
       "      <th>2018-09-06</th>\n",
       "      <td>221.05</td>\n",
       "      <td>230.707932</td>\n",
       "    </tr>\n",
       "    <tr>\n",
       "      <th>2018-09-07</th>\n",
       "      <td>222.95</td>\n",
       "      <td>227.971893</td>\n",
       "    </tr>\n",
       "    <tr>\n",
       "      <th>2018-09-10</th>\n",
       "      <td>222.0</td>\n",
       "      <td>225.808090</td>\n",
       "    </tr>\n",
       "    <tr>\n",
       "      <th>2018-09-11</th>\n",
       "      <td>216.0</td>\n",
       "      <td>224.078796</td>\n",
       "    </tr>\n",
       "    <tr>\n",
       "      <th>2018-09-12</th>\n",
       "      <td>222.65</td>\n",
       "      <td>221.917877</td>\n",
       "    </tr>\n",
       "    <tr>\n",
       "      <th>2018-09-14</th>\n",
       "      <td>233.95</td>\n",
       "      <td>220.934021</td>\n",
       "    </tr>\n",
       "    <tr>\n",
       "      <th>2018-09-17</th>\n",
       "      <td>236.6</td>\n",
       "      <td>222.373428</td>\n",
       "    </tr>\n",
       "    <tr>\n",
       "      <th>2018-09-18</th>\n",
       "      <td>235.05</td>\n",
       "      <td>225.196869</td>\n",
       "    </tr>\n",
       "    <tr>\n",
       "      <th>2018-09-19</th>\n",
       "      <td>234.9</td>\n",
       "      <td>228.116653</td>\n",
       "    </tr>\n",
       "    <tr>\n",
       "      <th>2018-09-21</th>\n",
       "      <td>234.6</td>\n",
       "      <td>230.691528</td>\n",
       "    </tr>\n",
       "    <tr>\n",
       "      <th>2018-09-24</th>\n",
       "      <td>233.3</td>\n",
       "      <td>232.681229</td>\n",
       "    </tr>\n",
       "    <tr>\n",
       "      <th>2018-09-25</th>\n",
       "      <td>236.1</td>\n",
       "      <td>233.876266</td>\n",
       "    </tr>\n",
       "    <tr>\n",
       "      <th>2018-09-26</th>\n",
       "      <td>234.25</td>\n",
       "      <td>234.933395</td>\n",
       "    </tr>\n",
       "    <tr>\n",
       "      <th>2018-09-27</th>\n",
       "      <td>233.25</td>\n",
       "      <td>235.427246</td>\n",
       "    </tr>\n",
       "    <tr>\n",
       "      <th>2018-09-28</th>\n",
       "      <td>233.75</td>\n",
       "      <td>235.409714</td>\n",
       "    </tr>\n",
       "    <tr>\n",
       "      <th>2018-10-01</th>\n",
       "      <td>230.9</td>\n",
       "      <td>235.205246</td>\n",
       "    </tr>\n",
       "    <tr>\n",
       "      <th>2018-10-03</th>\n",
       "      <td>227.6</td>\n",
       "      <td>234.462616</td>\n",
       "    </tr>\n",
       "    <tr>\n",
       "      <th>2018-10-04</th>\n",
       "      <td>218.2</td>\n",
       "      <td>233.051224</td>\n",
       "    </tr>\n",
       "    <tr>\n",
       "      <th>2018-10-05</th>\n",
       "      <td>209.2</td>\n",
       "      <td>230.053070</td>\n",
       "    </tr>\n",
       "    <tr>\n",
       "      <th>2018-10-08</th>\n",
       "      <td>215.15</td>\n",
       "      <td>225.375015</td>\n",
       "    </tr>\n",
       "  </tbody>\n",
       "</table>\n",
       "</div>"
      ],
      "text/plain": [
       "            Actual   Predicted\n",
       "Date                          \n",
       "2018-07-24   246.3  239.798248\n",
       "2018-07-25   236.9  239.549667\n",
       "2018-07-26   239.1  238.828690\n",
       "2018-07-27  242.25  238.480331\n",
       "2018-07-30   242.2  238.868561\n",
       "2018-07-31   246.9  239.558151\n",
       "2018-08-01  235.65  241.080612\n",
       "2018-08-02  235.45  240.973495\n",
       "2018-08-03  234.65  240.160324\n",
       "2018-08-06   239.5  238.962173\n",
       "2018-08-07   237.6  238.508316\n",
       "2018-08-08  236.35  238.137543\n",
       "2018-08-09   237.3  237.693085\n",
       "2018-08-10  233.55  237.440933\n",
       "2018-08-13  234.55  236.716736\n",
       "2018-08-14  237.55  236.056198\n",
       "2018-08-16  239.35  235.980957\n",
       "2018-08-17   243.0  236.469757\n",
       "2018-08-20  245.15  237.747543\n",
       "2018-08-21  240.55  239.561020\n",
       "2018-08-23  235.45  240.640244\n",
       "2018-08-24   231.0  240.427612\n",
       "2018-08-27  237.05  238.921265\n",
       "2018-08-28  233.35  237.960953\n",
       "2018-08-29  234.55  236.740967\n",
       "2018-08-30   236.0  235.796173\n",
       "2018-08-31   234.3  235.340363\n",
       "2018-09-03   236.7  234.919403\n",
       "2018-09-04   223.7  234.982666\n",
       "2018-09-05   222.4  233.212891\n",
       "2018-09-06  221.05  230.707932\n",
       "2018-09-07  222.95  227.971893\n",
       "2018-09-10   222.0  225.808090\n",
       "2018-09-11   216.0  224.078796\n",
       "2018-09-12  222.65  221.917877\n",
       "2018-09-14  233.95  220.934021\n",
       "2018-09-17   236.6  222.373428\n",
       "2018-09-18  235.05  225.196869\n",
       "2018-09-19   234.9  228.116653\n",
       "2018-09-21   234.6  230.691528\n",
       "2018-09-24   233.3  232.681229\n",
       "2018-09-25   236.1  233.876266\n",
       "2018-09-26  234.25  234.933395\n",
       "2018-09-27  233.25  235.427246\n",
       "2018-09-28  233.75  235.409714\n",
       "2018-10-01   230.9  235.205246\n",
       "2018-10-03   227.6  234.462616\n",
       "2018-10-04   218.2  233.051224\n",
       "2018-10-05   209.2  230.053070\n",
       "2018-10-08  215.15  225.375015"
      ]
     },
     "execution_count": 41,
     "metadata": {},
     "output_type": "execute_result"
    }
   ],
   "source": [
    "dframe3.tail(50)"
   ]
  }
 ],
 "metadata": {
  "kernelspec": {
   "display_name": "Python 3 (ipykernel)",
   "language": "python",
   "name": "python3"
  },
  "language_info": {
   "codemirror_mode": {
    "name": "ipython",
    "version": 3
   },
   "file_extension": ".py",
   "mimetype": "text/x-python",
   "name": "python",
   "nbconvert_exporter": "python",
   "pygments_lexer": "ipython3",
   "version": "3.9.12"
  },
  "papermill": {
   "default_parameters": {},
   "duration": 50.167289,
   "end_time": "2022-10-05T11:47:23.120691",
   "environment_variables": {},
   "exception": null,
   "input_path": "__notebook__.ipynb",
   "output_path": "__notebook__.ipynb",
   "parameters": {},
   "start_time": "2022-10-05T11:46:32.953402",
   "version": "2.3.4"
  }
 },
 "nbformat": 4,
 "nbformat_minor": 5
}
